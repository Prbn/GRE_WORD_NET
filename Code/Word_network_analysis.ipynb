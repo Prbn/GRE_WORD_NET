{
 "cells": [
  {
   "cell_type": "markdown",
   "metadata": {},
   "source": [
    "## Libraries"
   ]
  },
  {
   "cell_type": "code",
   "execution_count": 1,
   "metadata": {
    "collapsed": true
   },
   "outputs": [],
   "source": [
    "# Libraries\n",
    "import sys\n",
    "import pandas as pd\n",
    "import os\n",
    "import numpy as np\n",
    "import pickle\n",
    "import networkx as nx"
   ]
  },
  {
   "cell_type": "markdown",
   "metadata": {},
   "source": [
    "## Directory"
   ]
  },
  {
   "cell_type": "code",
   "execution_count": 2,
   "metadata": {
    "collapsed": false
   },
   "outputs": [
    {
     "name": "stdout",
     "output_type": "stream",
     "text": [
      "Paths:\n",
      "Main: D:\\Projects\\GRE_WORD_TOOL\\Project\n",
      "Input: D:\\Projects\\GRE_WORD_TOOL\\Project\\Input\n",
      "Interim: D:\\Projects\\GRE_WORD_TOOL\\Project\\Interim\n",
      "Output: D:\\Projects\\GRE_WORD_TOOL\\Project\\Output\n",
      "Utilities: D:\\Projects\\GRE_WORD_TOOL\\Project\\Utilities\n",
      "Log: D:\\Projects\\GRE_WORD_TOOL\\Project\\Log\n"
     ]
    }
   ],
   "source": [
    "code_dir = os.getcwd()\n",
    "\n",
    "def parent_dir(dir, n: int):\n",
    "    if n > 0: return parent_dir(os.path.abspath(os.path.join(dir, os.pardir)), n-1)\n",
    "    else: return dir\n",
    "\n",
    "main_dir = parent_dir(code_dir,1)\n",
    "input_dir = main_dir + r'\\Input'\n",
    "interim_dir = main_dir + r'\\Interim'\n",
    "output_dir = main_dir + r'\\Output'\n",
    "util_dir = main_dir + r'\\Utilities'\n",
    "log_dir = main_dir + r'\\Log'\n",
    "\n",
    "print('Paths:')\n",
    "print('Main: {}'.format(main_dir))\n",
    "print('Input: {}'.format(input_dir))\n",
    "print('Interim: {}'.format(interim_dir))\n",
    "print('Output: {}'.format(output_dir))\n",
    "print('Utilities: {}'.format(util_dir))\n",
    "print('Log: {}'.format(log_dir))"
   ]
  },
  {
   "cell_type": "markdown",
   "metadata": {},
   "source": [
    "## Modules LIB"
   ]
  },
  {
   "cell_type": "code",
   "execution_count": 3,
   "metadata": {
    "collapsed": false
   },
   "outputs": [
    {
     "name": "stdout",
     "output_type": "stream",
     "text": [
      "df_tools imported.\n"
     ]
    }
   ],
   "source": [
    "# Modules\n",
    "sys.path.insert(0,main_dir)\n",
    "sys.path.insert(0,util_dir)\n",
    "\n",
    "from Utilities import *\n",
    "os.chdir(input_dir)"
   ]
  },
  {
   "cell_type": "markdown",
   "metadata": {},
   "source": [
    "## IMPORT"
   ]
  },
  {
   "cell_type": "code",
   "execution_count": 4,
   "metadata": {
    "collapsed": false
   },
   "outputs": [
    {
     "name": "stdout",
     "output_type": "stream",
     "text": [
      "------------------\n",
      "Top 5 rows:\n"
     ]
    },
    {
     "data": {
      "text/html": [
       "<div>\n",
       "<style scoped>\n",
       "    .dataframe tbody tr th:only-of-type {\n",
       "        vertical-align: middle;\n",
       "    }\n",
       "\n",
       "    .dataframe tbody tr th {\n",
       "        vertical-align: top;\n",
       "    }\n",
       "\n",
       "    .dataframe thead th {\n",
       "        text-align: right;\n",
       "    }\n",
       "</style>\n",
       "<table border=\"1\" class=\"dataframe\">\n",
       "  <thead>\n",
       "    <tr style=\"text-align: right;\">\n",
       "      <th></th>\n",
       "      <th>Category</th>\n",
       "      <th>Word</th>\n",
       "    </tr>\n",
       "  </thead>\n",
       "  <tbody>\n",
       "    <tr>\n",
       "      <th>0</th>\n",
       "      <td>PREDICTION</td>\n",
       "      <td>AUGUR/AUGURY</td>\n",
       "    </tr>\n",
       "    <tr>\n",
       "      <th>1</th>\n",
       "      <td>PREDICTION</td>\n",
       "      <td>FORECAST</td>\n",
       "    </tr>\n",
       "    <tr>\n",
       "      <th>2</th>\n",
       "      <td>PREDICTION</td>\n",
       "      <td>FORESIGHT/ FORESEE</td>\n",
       "    </tr>\n",
       "    <tr>\n",
       "      <th>3</th>\n",
       "      <td>PREDICTION</td>\n",
       "      <td>FORETELL</td>\n",
       "    </tr>\n",
       "    <tr>\n",
       "      <th>4</th>\n",
       "      <td>PREDICTION</td>\n",
       "      <td>PRESAGE</td>\n",
       "    </tr>\n",
       "  </tbody>\n",
       "</table>\n",
       "</div>"
      ],
      "text/plain": [
       "     Category                Word\n",
       "0  PREDICTION        AUGUR/AUGURY\n",
       "1  PREDICTION            FORECAST\n",
       "2  PREDICTION  FORESIGHT/ FORESEE\n",
       "3  PREDICTION            FORETELL\n",
       "4  PREDICTION             PRESAGE"
      ]
     },
     "metadata": {},
     "output_type": "display_data"
    },
    {
     "name": "stdout",
     "output_type": "stream",
     "text": [
      "Columns: 2\n",
      "Category, Word\n",
      "\n",
      "#Rows: 119\n",
      "------------------ \n",
      "\n"
     ]
    }
   ],
   "source": [
    "# Importing Data\n",
    "os.chdir(input_dir)\n",
    "\n",
    "gre_words_fn = 'Gre_Words.xlsx'\n",
    "\n",
    "df_gre_word_cat = pd.read_excel(gre_words_fn, sheet_name = 'word_seg', usecol='A:B')\n",
    "\n",
    "df_tools.preview_df(df_gre_word_cat)"
   ]
  },
  {
   "cell_type": "code",
   "execution_count": null,
   "metadata": {
    "collapsed": true
   },
   "outputs": [],
   "source": []
  },
  {
   "cell_type": "markdown",
   "metadata": {},
   "source": [
    "# PROCESS"
   ]
  },
  {
   "cell_type": "markdown",
   "metadata": {},
   "source": [
    "### BASE MAPPING"
   ]
  },
  {
   "cell_type": "code",
   "execution_count": 5,
   "metadata": {
    "collapsed": false
   },
   "outputs": [
    {
     "name": "stdout",
     "output_type": "stream",
     "text": [
      "------------------\n",
      "Top 5 rows:\n"
     ]
    },
    {
     "data": {
      "text/html": [
       "<div>\n",
       "<style scoped>\n",
       "    .dataframe tbody tr th:only-of-type {\n",
       "        vertical-align: middle;\n",
       "    }\n",
       "\n",
       "    .dataframe tbody tr th {\n",
       "        vertical-align: top;\n",
       "    }\n",
       "\n",
       "    .dataframe thead th {\n",
       "        text-align: right;\n",
       "    }\n",
       "</style>\n",
       "<table border=\"1\" class=\"dataframe\">\n",
       "  <thead>\n",
       "    <tr style=\"text-align: right;\">\n",
       "      <th></th>\n",
       "      <th>Category</th>\n",
       "      <th>Word</th>\n",
       "    </tr>\n",
       "  </thead>\n",
       "  <tbody>\n",
       "    <tr>\n",
       "      <th>0</th>\n",
       "      <td>PREDICTION</td>\n",
       "      <td>AUGUR/AUGURY</td>\n",
       "    </tr>\n",
       "    <tr>\n",
       "      <th>1</th>\n",
       "      <td>PREDICTION</td>\n",
       "      <td>FORECAST</td>\n",
       "    </tr>\n",
       "    <tr>\n",
       "      <th>2</th>\n",
       "      <td>PREDICTION</td>\n",
       "      <td>FORESIGHT/ FORESEE</td>\n",
       "    </tr>\n",
       "    <tr>\n",
       "      <th>3</th>\n",
       "      <td>PREDICTION</td>\n",
       "      <td>FORETELL</td>\n",
       "    </tr>\n",
       "    <tr>\n",
       "      <th>4</th>\n",
       "      <td>PREDICTION</td>\n",
       "      <td>PRESAGE</td>\n",
       "    </tr>\n",
       "  </tbody>\n",
       "</table>\n",
       "</div>"
      ],
      "text/plain": [
       "     Category                Word\n",
       "0  PREDICTION        AUGUR/AUGURY\n",
       "1  PREDICTION            FORECAST\n",
       "2  PREDICTION  FORESIGHT/ FORESEE\n",
       "3  PREDICTION            FORETELL\n",
       "4  PREDICTION             PRESAGE"
      ]
     },
     "metadata": {},
     "output_type": "display_data"
    },
    {
     "name": "stdout",
     "output_type": "stream",
     "text": [
      "Columns: 2\n",
      "Category, Word\n",
      "\n",
      "#Rows: 119\n",
      "------------------ \n",
      "\n"
     ]
    }
   ],
   "source": [
    "base_map_df = df_gre_word_cat.drop_duplicates()\n",
    "\n",
    "node_a_cat_map_df = base_map_df.rename(columns = {'Category':'link_category', 'Word': 'Node_A_word'})\n",
    "node_b_cat_map_df = base_map_df.rename(columns = {'Category':'link_category', 'Word': 'Node_B_word'})\n",
    "\n",
    "df_tools.preview_df(base_map_df)"
   ]
  },
  {
   "cell_type": "code",
   "execution_count": null,
   "metadata": {
    "collapsed": true
   },
   "outputs": [],
   "source": []
  },
  {
   "cell_type": "raw",
   "metadata": {
    "collapsed": true
   },
   "source": [
    "## INITIAL\n",
    "\n",
    "working_1_df = base_map_df.rename(columns = {'Category':'Primary_category', 'Word': 'Primary_word'})\n",
    "\n",
    "working_1_df['Node_A_word'] = working_1_df['Primary_word']\n",
    "working_1_df['_prev_link'] = working_1_df['Primary_category']\n",
    "working_1_df['_prev_Word'] = working_1_df['Primary_word']\n",
    "working_1_df['_prev_link_degree'] = 0\n",
    "working_1_df['_prev_link_distance'] = 1\n",
    "\n",
    "working_1_df = pd.merge(working_1_df, node_a_cat_map_df, how = 'inner', on = 'Node_A_word')\n",
    "working_1_df = pd.merge(working_1_df, node_b_cat_map_df, how = 'inner', on = 'link_category')\n",
    "\n",
    "# Removing where two nodes are the same\n",
    "working_1_df = working_1_df[~(working_1_df['Node_A_word'] == working_1_df['Node_B_word'])]\n",
    "working_1_df = working_1_df[~(working_1_df['Primary_word'] == working_1_df['Node_B_word'])]\n",
    "\n",
    "working_1_df = working_1_df.drop_duplicates()\n",
    "\n",
    "working_1_df['link_distance'] = working_1_df.apply(lambda x: x['_prev_link_distance'] + 1 if x['_prev_Word'] != x['Node_A_word'] else x['_prev_link_distance'], axis = 1) \n",
    "working_1_df['Link_degree'] = working_1_df.apply(lambda x: x['_prev_link_degree'] + 1 if x['_prev_link'] != x['link_category'] else x['_prev_link_degree'], axis = 1)\n",
    "\n",
    "# only keeping selected columns\n",
    "col_l = ['Primary_category', 'Primary_word', 'Node_A_word', 'link_category', 'Node_B_word', 'link_distance', 'Link_degree']\n",
    "working_1_df = working_1_df[col_l]\n",
    "\n",
    "df_tools.preview_df(working_1_df)"
   ]
  },
  {
   "cell_type": "raw",
   "metadata": {
    "collapsed": true
   },
   "source": [
    "# All network\n",
    "df_network =  working_1_df.copy()\n",
    "\n",
    "df_tools.preview_df(df_network)"
   ]
  },
  {
   "cell_type": "raw",
   "metadata": {},
   "source": [
    "# col list use in the loop\n",
    "col_1_l = ['Primary_category', 'Primary_word', 'Node_A_word', 'link_category', 'Node_B_word']\n",
    "col_l = ['Primary_category', 'Primary_word', 'Node_A_word', 'link_category', 'Node_B_word', 'link_distance', 'Link_degree']\n",
    "\n",
    "# existing network\n",
    "existing_network_1_df = df_network[col_1_l]\n",
    "existing_network_2_df = df_network.rename(columns = {'Node_A_word':'Node_B_word', 'Node_B_word': 'Node_A_word'})\n",
    "\n",
    "# Appending and asigning flag\n",
    "existing_network_df = existing_network_1_df[col_1_l].append(existing_network_2_df[col_1_l], ignore_index=True)\n",
    "existing_network_df = existing_network_df.drop_duplicates()\n",
    "existing_network_df['_existing_flag'] = 1\n",
    "\n",
    "# Removing where two nodes are the same\n",
    "existing_network_df = existing_network_df[~(existing_network_df['Node_A_word'] == existing_network_df['Node_B_word'])]\n",
    "existing_network_df = existing_network_df[~(existing_network_df['Primary_word'] == existing_network_df['Node_B_word'])]\n",
    "\n",
    "\n",
    "# second step\n",
    "\n",
    "working_2_df = df_network[col_l]\n",
    "working_2_df = working_2_df.reset_index()\n",
    "working_2_df = working_2_df.rename(columns = {'Node_A_word': '_prev_Word','Node_B_word':'Node_A_word'\n",
    "                                              , 'link_category': '_prev_link'\n",
    "                                              , 'Link_degree': '_prev_link_degree'\n",
    "                                              , 'link_distance': '_prev_link_distance'})\n",
    "\n",
    "working_2_df = pd.merge(working_2_df, node_a_cat_map_df, how = 'inner', on = 'Node_A_word')\n",
    "working_2_df = pd.merge(working_2_df, node_b_cat_map_df, how = 'inner', on = 'link_category')\n",
    "\n",
    "# Removing where two nodes are the same\n",
    "working_2_df = working_2_df[~(working_2_df['Node_A_word'] == working_2_df['Node_B_word'])]\n",
    "working_2_df = working_2_df[~(working_2_df['Primary_word'] == working_2_df['Node_B_word'])]\n",
    "\n",
    "# Assigning NULl Columns\n",
    "working_2_df['link_distance'] = None\n",
    "working_2_df['Link_degree'] = None\n",
    "\n",
    "# Removing duplicates\n",
    "working_2_df = working_2_df.drop_duplicates()\n",
    "\n",
    "\n",
    "# Removing existing network\n",
    "working_2_df = pd.merge(working_2_df, existing_network_df, how = 'left', on = col_1_l)\n",
    "working_2_df['_existing_flag'] = working_2_df['_existing_flag'].fillna(0)\n",
    "working_2_df = working_2_df[~(working_2_df['_existing_flag'] == 1)]\n",
    "\n",
    "\n",
    "# Numer of record\n",
    "n = working_2_df.shape[0]\n",
    "print('Number of new links: {}'.format(n))\n",
    "\n",
    "# Updating degree and distance\n",
    "if n>0:\n",
    "    working_2_df['link_distance'] = working_2_df.apply(lambda x: x['_prev_link_distance'] + 1 if (x['_prev_Word'] != x['Node_A_word']) else x['_prev_link_distance'], axis = 1) \n",
    "    working_2_df['Link_degree'] = working_2_df.apply(lambda x: x['_prev_link_degree'] + 1 if (x['_prev_link'] != x['link_category']) else x['_prev_link_degree'], axis = 1)\n",
    "\n",
    "\n",
    "# only keeping selected columns\n",
    "working_2_df = working_2_df[col_l]\n",
    "\n",
    "# updating overall network\n",
    "df_network = df_network[col_l].append(working_2_df[col_l], ignore_index=True).drop_duplicates()\n",
    "\n",
    "# Removing where two nodes are the same\n",
    "df_network = df_network[~(df_network['Node_A_word'] == df_network['Node_B_word'])]\n",
    "df_network = df_network[~(df_network['Primary_word'] == df_network['Node_B_word'])]\n",
    "\n",
    "# Reseting index\n",
    "df_network = df_network.reset_index()\n",
    "\n",
    "# Deleting working tables\n",
    "del working_2_df\n",
    "del existing_network_1_df\n",
    "del existing_network_2_df\n",
    "del existing_network_df\n",
    "\n",
    "df_tools.preview_df(df_network)"
   ]
  },
  {
   "cell_type": "code",
   "execution_count": null,
   "metadata": {
    "collapsed": true
   },
   "outputs": [],
   "source": []
  },
  {
   "cell_type": "markdown",
   "metadata": {},
   "source": [
    "#### BASE MAPPING"
   ]
  },
  {
   "cell_type": "code",
   "execution_count": 6,
   "metadata": {
    "collapsed": false
   },
   "outputs": [
    {
     "name": "stdout",
     "output_type": "stream",
     "text": [
      "------------------\n",
      "Top 5 rows:\n"
     ]
    },
    {
     "data": {
      "text/html": [
       "<div>\n",
       "<style scoped>\n",
       "    .dataframe tbody tr th:only-of-type {\n",
       "        vertical-align: middle;\n",
       "    }\n",
       "\n",
       "    .dataframe tbody tr th {\n",
       "        vertical-align: top;\n",
       "    }\n",
       "\n",
       "    .dataframe thead th {\n",
       "        text-align: right;\n",
       "    }\n",
       "</style>\n",
       "<table border=\"1\" class=\"dataframe\">\n",
       "  <thead>\n",
       "    <tr style=\"text-align: right;\">\n",
       "      <th></th>\n",
       "      <th>Category</th>\n",
       "      <th>Word</th>\n",
       "    </tr>\n",
       "  </thead>\n",
       "  <tbody>\n",
       "    <tr>\n",
       "      <th>0</th>\n",
       "      <td>PREDICTION</td>\n",
       "      <td>AUGUR/AUGURY</td>\n",
       "    </tr>\n",
       "    <tr>\n",
       "      <th>1</th>\n",
       "      <td>PREDICTION</td>\n",
       "      <td>FORECAST</td>\n",
       "    </tr>\n",
       "    <tr>\n",
       "      <th>2</th>\n",
       "      <td>PREDICTION</td>\n",
       "      <td>FORESIGHT/ FORESEE</td>\n",
       "    </tr>\n",
       "    <tr>\n",
       "      <th>3</th>\n",
       "      <td>PREDICTION</td>\n",
       "      <td>FORETELL</td>\n",
       "    </tr>\n",
       "    <tr>\n",
       "      <th>4</th>\n",
       "      <td>PREDICTION</td>\n",
       "      <td>PRESAGE</td>\n",
       "    </tr>\n",
       "  </tbody>\n",
       "</table>\n",
       "</div>"
      ],
      "text/plain": [
       "     Category                Word\n",
       "0  PREDICTION        AUGUR/AUGURY\n",
       "1  PREDICTION            FORECAST\n",
       "2  PREDICTION  FORESIGHT/ FORESEE\n",
       "3  PREDICTION            FORETELL\n",
       "4  PREDICTION             PRESAGE"
      ]
     },
     "metadata": {},
     "output_type": "display_data"
    },
    {
     "name": "stdout",
     "output_type": "stream",
     "text": [
      "Columns: 2\n",
      "Category, Word\n",
      "\n",
      "#Rows: 119\n",
      "------------------ \n",
      "\n"
     ]
    }
   ],
   "source": [
    "base_map_df = df_gre_word_cat.drop_duplicates()\n",
    "\n",
    "node_a_cat_map_df = base_map_df.rename(columns = {'Category':'link_category', 'Word': 'Node_A_word'})\n",
    "node_b_cat_map_df = base_map_df.rename(columns = {'Category':'link_category', 'Word': 'Node_B_word'})\n",
    "\n",
    "df_tools.preview_df(base_map_df)"
   ]
  },
  {
   "cell_type": "code",
   "execution_count": 7,
   "metadata": {
    "collapsed": false
   },
   "outputs": [
    {
     "name": "stdout",
     "output_type": "stream",
     "text": [
      "------------------\n",
      "Top 5 rows:\n"
     ]
    },
    {
     "data": {
      "text/html": [
       "<div>\n",
       "<style scoped>\n",
       "    .dataframe tbody tr th:only-of-type {\n",
       "        vertical-align: middle;\n",
       "    }\n",
       "\n",
       "    .dataframe tbody tr th {\n",
       "        vertical-align: top;\n",
       "    }\n",
       "\n",
       "    .dataframe thead th {\n",
       "        text-align: right;\n",
       "    }\n",
       "</style>\n",
       "<table border=\"1\" class=\"dataframe\">\n",
       "  <thead>\n",
       "    <tr style=\"text-align: right;\">\n",
       "      <th></th>\n",
       "      <th>Primary_category</th>\n",
       "      <th>Primary_word</th>\n",
       "      <th>Node_A_word</th>\n",
       "      <th>Node_B_word</th>\n",
       "      <th>link_category</th>\n",
       "      <th>link_distance</th>\n",
       "      <th>link_degree</th>\n",
       "    </tr>\n",
       "  </thead>\n",
       "  <tbody>\n",
       "    <tr>\n",
       "      <th>0</th>\n",
       "      <td>PREDICTION</td>\n",
       "      <td>AUGUR/AUGURY</td>\n",
       "      <td>AUGUR/AUGURY</td>\n",
       "      <td>AUGUR/AUGURY</td>\n",
       "      <td>PREDICTION</td>\n",
       "      <td>1</td>\n",
       "      <td>0</td>\n",
       "    </tr>\n",
       "    <tr>\n",
       "      <th>1</th>\n",
       "      <td>PREDICTION</td>\n",
       "      <td>FORECAST</td>\n",
       "      <td>FORECAST</td>\n",
       "      <td>FORECAST</td>\n",
       "      <td>PREDICTION</td>\n",
       "      <td>1</td>\n",
       "      <td>0</td>\n",
       "    </tr>\n",
       "    <tr>\n",
       "      <th>2</th>\n",
       "      <td>PREDICTION</td>\n",
       "      <td>FORESIGHT/ FORESEE</td>\n",
       "      <td>FORESIGHT/ FORESEE</td>\n",
       "      <td>FORESIGHT/ FORESEE</td>\n",
       "      <td>PREDICTION</td>\n",
       "      <td>1</td>\n",
       "      <td>0</td>\n",
       "    </tr>\n",
       "    <tr>\n",
       "      <th>3</th>\n",
       "      <td>PREDICTION</td>\n",
       "      <td>FORETELL</td>\n",
       "      <td>FORETELL</td>\n",
       "      <td>FORETELL</td>\n",
       "      <td>PREDICTION</td>\n",
       "      <td>1</td>\n",
       "      <td>0</td>\n",
       "    </tr>\n",
       "    <tr>\n",
       "      <th>4</th>\n",
       "      <td>PREDICTION</td>\n",
       "      <td>PRESAGE</td>\n",
       "      <td>PRESAGE</td>\n",
       "      <td>PRESAGE</td>\n",
       "      <td>PREDICTION</td>\n",
       "      <td>1</td>\n",
       "      <td>0</td>\n",
       "    </tr>\n",
       "  </tbody>\n",
       "</table>\n",
       "</div>"
      ],
      "text/plain": [
       "  Primary_category        Primary_word         Node_A_word  \\\n",
       "0       PREDICTION        AUGUR/AUGURY        AUGUR/AUGURY   \n",
       "1       PREDICTION            FORECAST            FORECAST   \n",
       "2       PREDICTION  FORESIGHT/ FORESEE  FORESIGHT/ FORESEE   \n",
       "3       PREDICTION            FORETELL            FORETELL   \n",
       "4       PREDICTION             PRESAGE             PRESAGE   \n",
       "\n",
       "          Node_B_word link_category  link_distance  link_degree  \n",
       "0        AUGUR/AUGURY    PREDICTION              1            0  \n",
       "1            FORECAST    PREDICTION              1            0  \n",
       "2  FORESIGHT/ FORESEE    PREDICTION              1            0  \n",
       "3            FORETELL    PREDICTION              1            0  \n",
       "4             PRESAGE    PREDICTION              1            0  "
      ]
     },
     "metadata": {},
     "output_type": "display_data"
    },
    {
     "name": "stdout",
     "output_type": "stream",
     "text": [
      "Columns: 7\n",
      "Primary_category, Primary_word, Node_A_word, Node_B_word, link_category, link_distance, link_degree\n",
      "\n",
      "#Rows: 119\n",
      "------------------ \n",
      "\n"
     ]
    }
   ],
   "source": [
    "dummy_network_df = base_map_df.rename(columns = {'Category':'Primary_category', 'Word': 'Primary_word'})\n",
    "\n",
    "dummy_network_df['Node_A_word'] = dummy_network_df['Primary_word']\n",
    "dummy_network_df['Node_B_word'] = dummy_network_df['Primary_word']\n",
    "dummy_network_df['link_category'] = dummy_network_df['Primary_category']\n",
    "dummy_network_df['link_distance'] = 1\n",
    "dummy_network_df['link_degree'] = 0\n",
    "\n",
    "# Dropping dups\n",
    "dummy_network_df = dummy_network_df.drop_duplicates()\n",
    "\n",
    "df_tools.preview_df(dummy_network_df)"
   ]
  },
  {
   "cell_type": "code",
   "execution_count": 8,
   "metadata": {
    "collapsed": false
   },
   "outputs": [
    {
     "name": "stdout",
     "output_type": "stream",
     "text": [
      "Number of new links: 866\n",
      "Number of new links: 7200\n",
      "Number of new links: 0\n",
      "------------------\n",
      "Top 5 rows:\n"
     ]
    },
    {
     "data": {
      "text/html": [
       "<div>\n",
       "<style scoped>\n",
       "    .dataframe tbody tr th:only-of-type {\n",
       "        vertical-align: middle;\n",
       "    }\n",
       "\n",
       "    .dataframe tbody tr th {\n",
       "        vertical-align: top;\n",
       "    }\n",
       "\n",
       "    .dataframe thead th {\n",
       "        text-align: right;\n",
       "    }\n",
       "</style>\n",
       "<table border=\"1\" class=\"dataframe\">\n",
       "  <thead>\n",
       "    <tr style=\"text-align: right;\">\n",
       "      <th></th>\n",
       "      <th>Primary_category</th>\n",
       "      <th>Primary_word</th>\n",
       "      <th>Node_A_word</th>\n",
       "      <th>link_category</th>\n",
       "      <th>Node_B_word</th>\n",
       "      <th>link_distance</th>\n",
       "      <th>link_degree</th>\n",
       "    </tr>\n",
       "  </thead>\n",
       "  <tbody>\n",
       "    <tr>\n",
       "      <th>0</th>\n",
       "      <td>PREDICTION</td>\n",
       "      <td>AUGUR/AUGURY</td>\n",
       "      <td>AUGUR/AUGURY</td>\n",
       "      <td>PREDICTION</td>\n",
       "      <td>FORECAST</td>\n",
       "      <td>1</td>\n",
       "      <td>0</td>\n",
       "    </tr>\n",
       "    <tr>\n",
       "      <th>1</th>\n",
       "      <td>PREDICTION</td>\n",
       "      <td>AUGUR/AUGURY</td>\n",
       "      <td>AUGUR/AUGURY</td>\n",
       "      <td>PREDICTION</td>\n",
       "      <td>FORESIGHT/ FORESEE</td>\n",
       "      <td>1</td>\n",
       "      <td>0</td>\n",
       "    </tr>\n",
       "    <tr>\n",
       "      <th>2</th>\n",
       "      <td>PREDICTION</td>\n",
       "      <td>AUGUR/AUGURY</td>\n",
       "      <td>AUGUR/AUGURY</td>\n",
       "      <td>PREDICTION</td>\n",
       "      <td>FORETELL</td>\n",
       "      <td>1</td>\n",
       "      <td>0</td>\n",
       "    </tr>\n",
       "    <tr>\n",
       "      <th>3</th>\n",
       "      <td>PREDICTION</td>\n",
       "      <td>AUGUR/AUGURY</td>\n",
       "      <td>AUGUR/AUGURY</td>\n",
       "      <td>PREDICTION</td>\n",
       "      <td>PRESAGE</td>\n",
       "      <td>1</td>\n",
       "      <td>0</td>\n",
       "    </tr>\n",
       "    <tr>\n",
       "      <th>4</th>\n",
       "      <td>PREDICTION</td>\n",
       "      <td>AUGUR/AUGURY</td>\n",
       "      <td>AUGUR/AUGURY</td>\n",
       "      <td>PREDICTION</td>\n",
       "      <td>PRESCIENCE</td>\n",
       "      <td>1</td>\n",
       "      <td>0</td>\n",
       "    </tr>\n",
       "  </tbody>\n",
       "</table>\n",
       "</div>"
      ],
      "text/plain": [
       "  Primary_category  Primary_word   Node_A_word link_category  \\\n",
       "0       PREDICTION  AUGUR/AUGURY  AUGUR/AUGURY    PREDICTION   \n",
       "1       PREDICTION  AUGUR/AUGURY  AUGUR/AUGURY    PREDICTION   \n",
       "2       PREDICTION  AUGUR/AUGURY  AUGUR/AUGURY    PREDICTION   \n",
       "3       PREDICTION  AUGUR/AUGURY  AUGUR/AUGURY    PREDICTION   \n",
       "4       PREDICTION  AUGUR/AUGURY  AUGUR/AUGURY    PREDICTION   \n",
       "\n",
       "          Node_B_word link_distance link_degree  \n",
       "0            FORECAST             1           0  \n",
       "1  FORESIGHT/ FORESEE             1           0  \n",
       "2            FORETELL             1           0  \n",
       "3             PRESAGE             1           0  \n",
       "4          PRESCIENCE             1           0  "
      ]
     },
     "metadata": {},
     "output_type": "display_data"
    },
    {
     "name": "stdout",
     "output_type": "stream",
     "text": [
      "Columns: 7\n",
      "Primary_category, Primary_word, Node_A_word, link_category, Node_B_word, link_distance, link_degree\n",
      "\n",
      "#Rows: 8066\n",
      "------------------ \n",
      "\n"
     ]
    }
   ],
   "source": [
    "# col list use in the loop\n",
    "col_1_l = ['Primary_category', 'Primary_word', 'Node_A_word', 'link_category', 'Node_B_word']\n",
    "col_l = ['Primary_category', 'Primary_word', 'Node_A_word', 'link_category', 'Node_B_word', 'link_distance', 'link_degree']\n",
    "\n",
    "df_network = dummy_network_df[col_l]\n",
    "\n",
    "# Numer of record\n",
    "n = df_network.shape[0]\n",
    "\n",
    "while n > 0:\n",
    "    # existing network\n",
    "    existing_network_1_df = df_network[col_1_l]\n",
    "    existing_network_2_df = df_network.rename(columns = {'Node_A_word':'Node_B_word', 'Node_B_word': 'Node_A_word'})\n",
    "\n",
    "    # Appending and asigning flag\n",
    "    existing_network_df = existing_network_1_df[col_1_l].append(existing_network_2_df[col_1_l], ignore_index=True)\n",
    "    existing_network_df = existing_network_df.drop_duplicates()\n",
    "    existing_network_df['_existing_flag'] = 1\n",
    "\n",
    "    # Removing where two nodes are the same\n",
    "    existing_network_df = existing_network_df[~(existing_network_df['Node_A_word'] == existing_network_df['Node_B_word'])]\n",
    "    existing_network_df = existing_network_df[~(existing_network_df['Primary_word'] == existing_network_df['Node_B_word'])]\n",
    "\n",
    "\n",
    "    # second step\n",
    "    working_df = df_network[col_l]\n",
    "    working_df = working_df.reset_index()\n",
    "    working_df = working_df.rename(columns = {'Node_A_word': '_prev_Word','Node_B_word':'Node_A_word'\n",
    "                                                  , 'link_category': '_prev_link'\n",
    "                                                  , 'link_degree': '_prev_link_degree'\n",
    "                                                  , 'link_distance': '_prev_link_distance'})\n",
    "\n",
    "    working_df = pd.merge(working_df, node_a_cat_map_df, how = 'inner', on = 'Node_A_word')\n",
    "    working_df = pd.merge(working_df, node_b_cat_map_df, how = 'inner', on = 'link_category')\n",
    "\n",
    "    # Removing where two nodes are the same\n",
    "    working_df = working_df[~(working_df['Node_A_word'] == working_df['Node_B_word'])]\n",
    "    working_df = working_df[~(working_df['Primary_word'] == working_df['Node_B_word'])]\n",
    "\n",
    "    # Assigning NULl Columns\n",
    "    working_df['link_distance'] = None\n",
    "    working_df['link_degree'] = None\n",
    "\n",
    "    # Removing duplicates\n",
    "    working_df = working_df.drop_duplicates()\n",
    "\n",
    "\n",
    "    # Removing existing network\n",
    "    working_df = pd.merge(working_df, existing_network_df, how = 'left', on = col_1_l)\n",
    "    working_df['_existing_flag'] = working_df['_existing_flag'].fillna(0)\n",
    "    working_df = working_df[~(working_df['_existing_flag'] == 1)]\n",
    "\n",
    "\n",
    "    # Numer of record\n",
    "    n = working_df.shape[0]\n",
    "    print('Number of new links: {}'.format(n))\n",
    "\n",
    "    # Updating degree and distance\n",
    "    if n>0:\n",
    "        working_df['link_distance'] = working_df.apply(lambda x: x['_prev_link_distance'] + 1 if (x['_prev_Word'] != x['Node_A_word']) else x['_prev_link_distance'], axis = 1) \n",
    "        working_df['link_degree'] = working_df.apply(lambda x: x['_prev_link_degree'] + 1 if (x['_prev_link'] != x['link_category']) else x['_prev_link_degree'], axis = 1)\n",
    "\n",
    "\n",
    "    # only keeping selected columns\n",
    "    working_df = working_df[col_l]\n",
    "\n",
    "    # updating overall network\n",
    "    df_network = df_network[col_l].append(working_df[col_l], ignore_index=True).drop_duplicates()\n",
    "\n",
    "    # Removing where two nodes are the same\n",
    "    df_network = df_network[~(df_network['Node_A_word'] == df_network['Node_B_word'])]\n",
    "    df_network = df_network[~(df_network['Primary_word'] == df_network['Node_B_word'])]\n",
    "\n",
    "    # Reseting index\n",
    "    df_network = df_network.reset_index(drop = True)\n",
    "\n",
    "    # Deleting working tables\n",
    "    del working_df\n",
    "    del existing_network_1_df\n",
    "    del existing_network_2_df\n",
    "    del existing_network_df\n",
    "\n",
    "df_tools.preview_df(df_network)"
   ]
  },
  {
   "cell_type": "code",
   "execution_count": 9,
   "metadata": {
    "collapsed": false
   },
   "outputs": [
    {
     "name": "stdout",
     "output_type": "stream",
     "text": [
      "------------------\n",
      "Top 5 rows:\n"
     ]
    },
    {
     "data": {
      "text/html": [
       "<div>\n",
       "<style scoped>\n",
       "    .dataframe tbody tr th:only-of-type {\n",
       "        vertical-align: middle;\n",
       "    }\n",
       "\n",
       "    .dataframe tbody tr th {\n",
       "        vertical-align: top;\n",
       "    }\n",
       "\n",
       "    .dataframe thead th {\n",
       "        text-align: right;\n",
       "    }\n",
       "</style>\n",
       "<table border=\"1\" class=\"dataframe\">\n",
       "  <thead>\n",
       "    <tr style=\"text-align: right;\">\n",
       "      <th></th>\n",
       "      <th>Primary_category</th>\n",
       "      <th>Primary_word</th>\n",
       "      <th>Node_A_word</th>\n",
       "      <th>link_category</th>\n",
       "      <th>Node_B_word</th>\n",
       "      <th>link_distance</th>\n",
       "      <th>link_degree</th>\n",
       "    </tr>\n",
       "  </thead>\n",
       "  <tbody>\n",
       "    <tr>\n",
       "      <th>0</th>\n",
       "      <td>PREDICTION</td>\n",
       "      <td>AUGUR/AUGURY</td>\n",
       "      <td>AUGUR/AUGURY</td>\n",
       "      <td>PREDICTION</td>\n",
       "      <td>FORECAST</td>\n",
       "      <td>1</td>\n",
       "      <td>0</td>\n",
       "    </tr>\n",
       "    <tr>\n",
       "      <th>1</th>\n",
       "      <td>PREDICTION</td>\n",
       "      <td>AUGUR/AUGURY</td>\n",
       "      <td>AUGUR/AUGURY</td>\n",
       "      <td>PREDICTION</td>\n",
       "      <td>FORESIGHT/ FORESEE</td>\n",
       "      <td>1</td>\n",
       "      <td>0</td>\n",
       "    </tr>\n",
       "    <tr>\n",
       "      <th>2</th>\n",
       "      <td>PREDICTION</td>\n",
       "      <td>AUGUR/AUGURY</td>\n",
       "      <td>AUGUR/AUGURY</td>\n",
       "      <td>PREDICTION</td>\n",
       "      <td>FORETELL</td>\n",
       "      <td>1</td>\n",
       "      <td>0</td>\n",
       "    </tr>\n",
       "    <tr>\n",
       "      <th>3</th>\n",
       "      <td>PREDICTION</td>\n",
       "      <td>AUGUR/AUGURY</td>\n",
       "      <td>AUGUR/AUGURY</td>\n",
       "      <td>PREDICTION</td>\n",
       "      <td>PRESAGE</td>\n",
       "      <td>1</td>\n",
       "      <td>0</td>\n",
       "    </tr>\n",
       "    <tr>\n",
       "      <th>4</th>\n",
       "      <td>PREDICTION</td>\n",
       "      <td>AUGUR/AUGURY</td>\n",
       "      <td>AUGUR/AUGURY</td>\n",
       "      <td>PREDICTION</td>\n",
       "      <td>PRESCIENCE</td>\n",
       "      <td>1</td>\n",
       "      <td>0</td>\n",
       "    </tr>\n",
       "  </tbody>\n",
       "</table>\n",
       "</div>"
      ],
      "text/plain": [
       "  Primary_category  Primary_word   Node_A_word link_category  \\\n",
       "0       PREDICTION  AUGUR/AUGURY  AUGUR/AUGURY    PREDICTION   \n",
       "1       PREDICTION  AUGUR/AUGURY  AUGUR/AUGURY    PREDICTION   \n",
       "2       PREDICTION  AUGUR/AUGURY  AUGUR/AUGURY    PREDICTION   \n",
       "3       PREDICTION  AUGUR/AUGURY  AUGUR/AUGURY    PREDICTION   \n",
       "4       PREDICTION  AUGUR/AUGURY  AUGUR/AUGURY    PREDICTION   \n",
       "\n",
       "          Node_B_word link_distance link_degree  \n",
       "0            FORECAST             1           0  \n",
       "1  FORESIGHT/ FORESEE             1           0  \n",
       "2            FORETELL             1           0  \n",
       "3             PRESAGE             1           0  \n",
       "4          PRESCIENCE             1           0  "
      ]
     },
     "metadata": {},
     "output_type": "display_data"
    },
    {
     "name": "stdout",
     "output_type": "stream",
     "text": [
      "Columns: 7\n",
      "Primary_category, Primary_word, Node_A_word, link_category, Node_B_word, link_distance, link_degree\n",
      "\n",
      "#Rows: 36\n",
      "------------------ \n",
      "\n"
     ]
    }
   ],
   "source": [
    "df_tools.preview_df(df_network[df_network['Primary_word'] =='AUGUR/AUGURY'])"
   ]
  },
  {
   "cell_type": "markdown",
   "metadata": {},
   "source": [
    "## ANALYSIS"
   ]
  },
  {
   "cell_type": "code",
   "execution_count": 10,
   "metadata": {
    "collapsed": false
   },
   "outputs": [
    {
     "name": "stdout",
     "output_type": "stream",
     "text": [
      "------------------\n",
      "Top 5 rows:\n"
     ]
    },
    {
     "data": {
      "text/html": [
       "<div>\n",
       "<style scoped>\n",
       "    .dataframe tbody tr th:only-of-type {\n",
       "        vertical-align: middle;\n",
       "    }\n",
       "\n",
       "    .dataframe tbody tr th {\n",
       "        vertical-align: top;\n",
       "    }\n",
       "\n",
       "    .dataframe thead th {\n",
       "        text-align: right;\n",
       "    }\n",
       "</style>\n",
       "<table border=\"1\" class=\"dataframe\">\n",
       "  <thead>\n",
       "    <tr style=\"text-align: right;\">\n",
       "      <th></th>\n",
       "      <th>Primary_word</th>\n",
       "      <th>Primary_category</th>\n",
       "      <th>Node_B_word</th>\n",
       "      <th>Primary_distance</th>\n",
       "      <th>Primary_degree</th>\n",
       "    </tr>\n",
       "  </thead>\n",
       "  <tbody>\n",
       "    <tr>\n",
       "      <th>0</th>\n",
       "      <td>ADEPT</td>\n",
       "      <td>SKILLFUL</td>\n",
       "      <td>ADROIT</td>\n",
       "      <td>1</td>\n",
       "      <td>0</td>\n",
       "    </tr>\n",
       "    <tr>\n",
       "      <th>1</th>\n",
       "      <td>ADEPT</td>\n",
       "      <td>SKILLFUL</td>\n",
       "      <td>CONSUMMATE</td>\n",
       "      <td>1</td>\n",
       "      <td>0</td>\n",
       "    </tr>\n",
       "    <tr>\n",
       "      <th>2</th>\n",
       "      <td>ADEPT</td>\n",
       "      <td>SKILLFUL</td>\n",
       "      <td>DEFT</td>\n",
       "      <td>1</td>\n",
       "      <td>0</td>\n",
       "    </tr>\n",
       "    <tr>\n",
       "      <th>3</th>\n",
       "      <td>ADEPT</td>\n",
       "      <td>SKILLFUL</td>\n",
       "      <td>DEXTEROUS</td>\n",
       "      <td>1</td>\n",
       "      <td>0</td>\n",
       "    </tr>\n",
       "    <tr>\n",
       "      <th>4</th>\n",
       "      <td>ADEPT</td>\n",
       "      <td>SKILLFUL</td>\n",
       "      <td>PROFICIENT</td>\n",
       "      <td>1</td>\n",
       "      <td>0</td>\n",
       "    </tr>\n",
       "  </tbody>\n",
       "</table>\n",
       "</div>"
      ],
      "text/plain": [
       "  Primary_word Primary_category Node_B_word  Primary_distance  Primary_degree\n",
       "0        ADEPT         SKILLFUL      ADROIT                 1               0\n",
       "1        ADEPT         SKILLFUL  CONSUMMATE                 1               0\n",
       "2        ADEPT         SKILLFUL        DEFT                 1               0\n",
       "3        ADEPT         SKILLFUL   DEXTEROUS                 1               0\n",
       "4        ADEPT         SKILLFUL  PROFICIENT                 1               0"
      ]
     },
     "metadata": {},
     "output_type": "display_data"
    },
    {
     "name": "stdout",
     "output_type": "stream",
     "text": [
      "Columns: 5\n",
      "Primary_word, Primary_category, Node_B_word, Primary_distance, Primary_degree\n",
      "\n",
      "#Rows: 866\n",
      "------------------ \n",
      "\n"
     ]
    }
   ],
   "source": [
    "Network_data_df = df_network.copy()\n",
    "\n",
    "# Primary Connection\n",
    "Primary_connection_df = Network_data_df.groupby(['Node_A_word', 'link_category', 'Node_B_word'])['link_distance', 'link_degree'].min()\n",
    "Primary_connection_df = Primary_connection_df.reset_index()\n",
    "Primary_connection_df = Primary_connection_df.rename(columns = {'Node_A_word': 'Primary_word'\n",
    "                                                                , 'link_category': 'Primary_category'\n",
    "                                                                , 'link_distance': 'Primary_distance'\n",
    "                                                                , 'link_degree': 'Primary_degree'})\n",
    "\n",
    "df_tools.preview_df(Primary_connection_df)"
   ]
  },
  {
   "cell_type": "code",
   "execution_count": 11,
   "metadata": {
    "collapsed": false
   },
   "outputs": [
    {
     "name": "stdout",
     "output_type": "stream",
     "text": [
      "------------------\n",
      "Top 5 rows:\n"
     ]
    },
    {
     "data": {
      "text/html": [
       "<div>\n",
       "<style scoped>\n",
       "    .dataframe tbody tr th:only-of-type {\n",
       "        vertical-align: middle;\n",
       "    }\n",
       "\n",
       "    .dataframe tbody tr th {\n",
       "        vertical-align: top;\n",
       "    }\n",
       "\n",
       "    .dataframe thead th {\n",
       "        text-align: right;\n",
       "    }\n",
       "</style>\n",
       "<table border=\"1\" class=\"dataframe\">\n",
       "  <thead>\n",
       "    <tr style=\"text-align: right;\">\n",
       "      <th></th>\n",
       "      <th>Node_A_word</th>\n",
       "      <th>link_category</th>\n",
       "      <th>Node_B_word</th>\n",
       "      <th>link_strength</th>\n",
       "    </tr>\n",
       "  </thead>\n",
       "  <tbody>\n",
       "    <tr>\n",
       "      <th>0</th>\n",
       "      <td>ADEPT</td>\n",
       "      <td>SKILLFUL</td>\n",
       "      <td>ADROIT</td>\n",
       "      <td>3.5</td>\n",
       "    </tr>\n",
       "    <tr>\n",
       "      <th>1</th>\n",
       "      <td>ADEPT</td>\n",
       "      <td>SKILLFUL</td>\n",
       "      <td>CONSUMMATE</td>\n",
       "      <td>3.5</td>\n",
       "    </tr>\n",
       "    <tr>\n",
       "      <th>2</th>\n",
       "      <td>ADEPT</td>\n",
       "      <td>SKILLFUL</td>\n",
       "      <td>DEFT</td>\n",
       "      <td>3.5</td>\n",
       "    </tr>\n",
       "    <tr>\n",
       "      <th>3</th>\n",
       "      <td>ADEPT</td>\n",
       "      <td>SKILLFUL</td>\n",
       "      <td>DEXTEROUS</td>\n",
       "      <td>3.5</td>\n",
       "    </tr>\n",
       "    <tr>\n",
       "      <th>4</th>\n",
       "      <td>ADEPT</td>\n",
       "      <td>SKILLFUL</td>\n",
       "      <td>PROFICIENT</td>\n",
       "      <td>3.5</td>\n",
       "    </tr>\n",
       "  </tbody>\n",
       "</table>\n",
       "</div>"
      ],
      "text/plain": [
       "  Node_A_word link_category Node_B_word  link_strength\n",
       "0       ADEPT      SKILLFUL      ADROIT            3.5\n",
       "1       ADEPT      SKILLFUL  CONSUMMATE            3.5\n",
       "2       ADEPT      SKILLFUL        DEFT            3.5\n",
       "3       ADEPT      SKILLFUL   DEXTEROUS            3.5\n",
       "4       ADEPT      SKILLFUL  PROFICIENT            3.5"
      ]
     },
     "metadata": {},
     "output_type": "display_data"
    },
    {
     "name": "stdout",
     "output_type": "stream",
     "text": [
      "Columns: 4\n",
      "Node_A_word, link_category, Node_B_word, link_strength\n",
      "\n",
      "#Rows: 866\n",
      "------------------ \n",
      "\n",
      "------------------\n",
      "Top 5 rows:\n"
     ]
    },
    {
     "data": {
      "text/html": [
       "<div>\n",
       "<style scoped>\n",
       "    .dataframe tbody tr th:only-of-type {\n",
       "        vertical-align: middle;\n",
       "    }\n",
       "\n",
       "    .dataframe tbody tr th {\n",
       "        vertical-align: top;\n",
       "    }\n",
       "\n",
       "    .dataframe thead th {\n",
       "        text-align: right;\n",
       "    }\n",
       "</style>\n",
       "<table border=\"1\" class=\"dataframe\">\n",
       "  <thead>\n",
       "    <tr style=\"text-align: right;\">\n",
       "      <th></th>\n",
       "      <th>Node_A_word</th>\n",
       "      <th>Node_B_word</th>\n",
       "      <th>link_count</th>\n",
       "    </tr>\n",
       "  </thead>\n",
       "  <tbody>\n",
       "    <tr>\n",
       "      <th>0</th>\n",
       "      <td>ADEPT</td>\n",
       "      <td>ADROIT</td>\n",
       "      <td>1</td>\n",
       "    </tr>\n",
       "    <tr>\n",
       "      <th>1</th>\n",
       "      <td>ADEPT</td>\n",
       "      <td>CONSUMMATE</td>\n",
       "      <td>1</td>\n",
       "    </tr>\n",
       "    <tr>\n",
       "      <th>2</th>\n",
       "      <td>ADEPT</td>\n",
       "      <td>DEFT</td>\n",
       "      <td>1</td>\n",
       "    </tr>\n",
       "    <tr>\n",
       "      <th>3</th>\n",
       "      <td>ADEPT</td>\n",
       "      <td>DEXTEROUS</td>\n",
       "      <td>1</td>\n",
       "    </tr>\n",
       "    <tr>\n",
       "      <th>4</th>\n",
       "      <td>ADEPT</td>\n",
       "      <td>PROFICIENT</td>\n",
       "      <td>1</td>\n",
       "    </tr>\n",
       "  </tbody>\n",
       "</table>\n",
       "</div>"
      ],
      "text/plain": [
       "  Node_A_word Node_B_word  link_count\n",
       "0       ADEPT      ADROIT           1\n",
       "1       ADEPT  CONSUMMATE           1\n",
       "2       ADEPT        DEFT           1\n",
       "3       ADEPT   DEXTEROUS           1\n",
       "4       ADEPT  PROFICIENT           1"
      ]
     },
     "metadata": {},
     "output_type": "display_data"
    },
    {
     "name": "stdout",
     "output_type": "stream",
     "text": [
      "Columns: 3\n",
      "Node_A_word, Node_B_word, link_count\n",
      "\n",
      "#Rows: 866\n",
      "------------------ \n",
      "\n"
     ]
    }
   ],
   "source": [
    "link_data_df = df_network.copy()\n",
    "\n",
    "link_data_df['link_distance_resi'] = 1/link_data_df['link_distance']\n",
    "link_data_df['link_degree_resi'] = 1/(link_data_df['link_degree']+1)\n",
    "\n",
    "link_data_1_df = link_data_df[['Primary_word', 'Node_B_word', 'link_category', 'link_distance_resi', 'link_degree_resi']]\n",
    "link_data_2_df = link_data_df.rename(columns = {'Primary_word':'Node_B_word', 'Node_B_word': 'Primary_word'})\n",
    "\n",
    "# Appending\n",
    "link_data_fin_df = link_data_1_df.append(link_data_2_df, ignore_index=True, sort=False)\n",
    "\n",
    "# strength\n",
    "link_data_fin_df['strength'] = link_data_fin_df['link_distance_resi']*link_data_df['link_degree_resi']\n",
    "\n",
    "###########################################\n",
    "\n",
    "\n",
    "# link strength\n",
    "link_strength_df = link_data_fin_df.groupby(['Primary_word', 'link_category', 'Node_B_word'])['strength'].sum()\n",
    "link_strength_df = link_strength_df.reset_index()\n",
    "link_strength_df = link_strength_df.rename(columns = {'Primary_word': 'Node_A_word', 'strength': 'link_strength'})\n",
    "\n",
    "df_tools.preview_df(link_strength_df)\n",
    "\n",
    "############################################\n",
    "\n",
    "# Node strength\n",
    "\n",
    "# Node_link_count\n",
    "link_count_df = link_data_df.groupby(['Primary_word', 'Node_B_word'])['link_category'].nunique()\n",
    "link_count_df = link_count_df.reset_index()\n",
    "link_count_df = link_count_df.rename(columns = {'Primary_word': 'Node_A_word', 'link_category': 'link_count'})\n",
    "\n",
    "df_tools.preview_df(link_count_df)"
   ]
  },
  {
   "cell_type": "code",
   "execution_count": 12,
   "metadata": {
    "collapsed": false
   },
   "outputs": [
    {
     "name": "stdout",
     "output_type": "stream",
     "text": [
      "------------------\n",
      "Top 5 rows:\n"
     ]
    },
    {
     "data": {
      "text/html": [
       "<div>\n",
       "<style scoped>\n",
       "    .dataframe tbody tr th:only-of-type {\n",
       "        vertical-align: middle;\n",
       "    }\n",
       "\n",
       "    .dataframe tbody tr th {\n",
       "        vertical-align: top;\n",
       "    }\n",
       "\n",
       "    .dataframe thead th {\n",
       "        text-align: right;\n",
       "    }\n",
       "</style>\n",
       "<table border=\"1\" class=\"dataframe\">\n",
       "  <thead>\n",
       "    <tr style=\"text-align: right;\">\n",
       "      <th></th>\n",
       "      <th>Primary_category</th>\n",
       "      <th>Primary_word</th>\n",
       "      <th>Node_A_word</th>\n",
       "      <th>link_category</th>\n",
       "      <th>Node_B_word</th>\n",
       "      <th>link_distance</th>\n",
       "      <th>link_degree</th>\n",
       "      <th>Primary_distance</th>\n",
       "      <th>Primary_degree</th>\n",
       "      <th>link_strength</th>\n",
       "      <th>link_count</th>\n",
       "    </tr>\n",
       "  </thead>\n",
       "  <tbody>\n",
       "    <tr>\n",
       "      <th>0</th>\n",
       "      <td>PREDICTION</td>\n",
       "      <td>AUGUR/AUGURY</td>\n",
       "      <td>AUGUR/AUGURY</td>\n",
       "      <td>PREDICTION</td>\n",
       "      <td>FORECAST</td>\n",
       "      <td>1</td>\n",
       "      <td>0</td>\n",
       "      <td>1</td>\n",
       "      <td>0</td>\n",
       "      <td>3.5</td>\n",
       "      <td>1</td>\n",
       "    </tr>\n",
       "    <tr>\n",
       "      <th>1</th>\n",
       "      <td>PREDICTION</td>\n",
       "      <td>AUGUR/AUGURY</td>\n",
       "      <td>AUGUR/AUGURY</td>\n",
       "      <td>PREDICTION</td>\n",
       "      <td>FORESIGHT/ FORESEE</td>\n",
       "      <td>1</td>\n",
       "      <td>0</td>\n",
       "      <td>1</td>\n",
       "      <td>0</td>\n",
       "      <td>3.5</td>\n",
       "      <td>1</td>\n",
       "    </tr>\n",
       "    <tr>\n",
       "      <th>2</th>\n",
       "      <td>PREDICTION</td>\n",
       "      <td>AUGUR/AUGURY</td>\n",
       "      <td>AUGUR/AUGURY</td>\n",
       "      <td>PREDICTION</td>\n",
       "      <td>FORETELL</td>\n",
       "      <td>1</td>\n",
       "      <td>0</td>\n",
       "      <td>1</td>\n",
       "      <td>0</td>\n",
       "      <td>3.5</td>\n",
       "      <td>1</td>\n",
       "    </tr>\n",
       "    <tr>\n",
       "      <th>3</th>\n",
       "      <td>PREDICTION</td>\n",
       "      <td>AUGUR/AUGURY</td>\n",
       "      <td>AUGUR/AUGURY</td>\n",
       "      <td>PREDICTION</td>\n",
       "      <td>PRESAGE</td>\n",
       "      <td>1</td>\n",
       "      <td>0</td>\n",
       "      <td>1</td>\n",
       "      <td>0</td>\n",
       "      <td>3.5</td>\n",
       "      <td>1</td>\n",
       "    </tr>\n",
       "    <tr>\n",
       "      <th>4</th>\n",
       "      <td>PREDICTION</td>\n",
       "      <td>AUGUR/AUGURY</td>\n",
       "      <td>AUGUR/AUGURY</td>\n",
       "      <td>PREDICTION</td>\n",
       "      <td>PRESCIENCE</td>\n",
       "      <td>1</td>\n",
       "      <td>0</td>\n",
       "      <td>1</td>\n",
       "      <td>0</td>\n",
       "      <td>3.5</td>\n",
       "      <td>1</td>\n",
       "    </tr>\n",
       "  </tbody>\n",
       "</table>\n",
       "</div>"
      ],
      "text/plain": [
       "  Primary_category  Primary_word   Node_A_word link_category  \\\n",
       "0       PREDICTION  AUGUR/AUGURY  AUGUR/AUGURY    PREDICTION   \n",
       "1       PREDICTION  AUGUR/AUGURY  AUGUR/AUGURY    PREDICTION   \n",
       "2       PREDICTION  AUGUR/AUGURY  AUGUR/AUGURY    PREDICTION   \n",
       "3       PREDICTION  AUGUR/AUGURY  AUGUR/AUGURY    PREDICTION   \n",
       "4       PREDICTION  AUGUR/AUGURY  AUGUR/AUGURY    PREDICTION   \n",
       "\n",
       "          Node_B_word link_distance link_degree  Primary_distance  \\\n",
       "0            FORECAST             1           0                 1   \n",
       "1  FORESIGHT/ FORESEE             1           0                 1   \n",
       "2            FORETELL             1           0                 1   \n",
       "3             PRESAGE             1           0                 1   \n",
       "4          PRESCIENCE             1           0                 1   \n",
       "\n",
       "   Primary_degree  link_strength  link_count  \n",
       "0               0            3.5           1  \n",
       "1               0            3.5           1  \n",
       "2               0            3.5           1  \n",
       "3               0            3.5           1  \n",
       "4               0            3.5           1  "
      ]
     },
     "metadata": {},
     "output_type": "display_data"
    },
    {
     "name": "stdout",
     "output_type": "stream",
     "text": [
      "Columns: 11\n",
      "Primary_category, Primary_word, Node_A_word, link_category, Node_B_word, link_distance, link_degree, Primary_distance, Primary_degree, link_strength, link_count\n",
      "\n",
      "#Rows: 8066\n",
      "------------------ \n",
      "\n"
     ]
    }
   ],
   "source": [
    "# Merging\n",
    "df_network_final = pd.merge(df_network, Primary_connection_df, how = 'left', on = ['Primary_word', 'Primary_category', 'Node_B_word'])\n",
    "df_network_final = pd.merge(df_network_final, link_strength_df, how = 'left', on = ['Node_A_word', 'link_category', 'Node_B_word'])\n",
    "df_network_final = pd.merge(df_network_final, link_count_df, how = 'left', on = ['Node_A_word', 'Node_B_word'])\n",
    "\n",
    "\n",
    "df_tools.preview_df(df_network_final)"
   ]
  },
  {
   "cell_type": "code",
   "execution_count": null,
   "metadata": {
    "collapsed": true
   },
   "outputs": [],
   "source": []
  },
  {
   "cell_type": "markdown",
   "metadata": {},
   "source": [
    "### WORD NETWORK"
   ]
  },
  {
   "cell_type": "code",
   "execution_count": 13,
   "metadata": {
    "collapsed": false
   },
   "outputs": [
    {
     "name": "stdout",
     "output_type": "stream",
     "text": [
      "------------------\n",
      "Top 5 rows:\n"
     ]
    },
    {
     "data": {
      "text/html": [
       "<div>\n",
       "<style scoped>\n",
       "    .dataframe tbody tr th:only-of-type {\n",
       "        vertical-align: middle;\n",
       "    }\n",
       "\n",
       "    .dataframe tbody tr th {\n",
       "        vertical-align: top;\n",
       "    }\n",
       "\n",
       "    .dataframe thead th {\n",
       "        text-align: right;\n",
       "    }\n",
       "</style>\n",
       "<table border=\"1\" class=\"dataframe\">\n",
       "  <thead>\n",
       "    <tr style=\"text-align: right;\">\n",
       "      <th></th>\n",
       "      <th>Primary_word</th>\n",
       "      <th>Node_A_word</th>\n",
       "      <th>link_category</th>\n",
       "      <th>Node_B_word</th>\n",
       "      <th>link_distance</th>\n",
       "      <th>link_degree</th>\n",
       "      <th>Primary_distance</th>\n",
       "      <th>Primary_degree</th>\n",
       "      <th>link_strength</th>\n",
       "      <th>link_count</th>\n",
       "    </tr>\n",
       "  </thead>\n",
       "  <tbody>\n",
       "    <tr>\n",
       "      <th>0</th>\n",
       "      <td>ADEPT</td>\n",
       "      <td>ADEPT</td>\n",
       "      <td>SKILLFUL</td>\n",
       "      <td>ADROIT</td>\n",
       "      <td>1</td>\n",
       "      <td>0</td>\n",
       "      <td>1</td>\n",
       "      <td>0</td>\n",
       "      <td>3.5</td>\n",
       "      <td>1</td>\n",
       "    </tr>\n",
       "    <tr>\n",
       "      <th>1</th>\n",
       "      <td>ADEPT</td>\n",
       "      <td>ADEPT</td>\n",
       "      <td>SKILLFUL</td>\n",
       "      <td>CONSUMMATE</td>\n",
       "      <td>1</td>\n",
       "      <td>0</td>\n",
       "      <td>1</td>\n",
       "      <td>0</td>\n",
       "      <td>3.5</td>\n",
       "      <td>1</td>\n",
       "    </tr>\n",
       "    <tr>\n",
       "      <th>2</th>\n",
       "      <td>ADEPT</td>\n",
       "      <td>ADEPT</td>\n",
       "      <td>SKILLFUL</td>\n",
       "      <td>DEFT</td>\n",
       "      <td>1</td>\n",
       "      <td>0</td>\n",
       "      <td>1</td>\n",
       "      <td>0</td>\n",
       "      <td>3.5</td>\n",
       "      <td>1</td>\n",
       "    </tr>\n",
       "    <tr>\n",
       "      <th>3</th>\n",
       "      <td>ADEPT</td>\n",
       "      <td>ADEPT</td>\n",
       "      <td>SKILLFUL</td>\n",
       "      <td>DEXTEROUS</td>\n",
       "      <td>1</td>\n",
       "      <td>0</td>\n",
       "      <td>1</td>\n",
       "      <td>0</td>\n",
       "      <td>3.5</td>\n",
       "      <td>1</td>\n",
       "    </tr>\n",
       "    <tr>\n",
       "      <th>4</th>\n",
       "      <td>ADEPT</td>\n",
       "      <td>ADEPT</td>\n",
       "      <td>SKILLFUL</td>\n",
       "      <td>PROFICIENT</td>\n",
       "      <td>1</td>\n",
       "      <td>0</td>\n",
       "      <td>1</td>\n",
       "      <td>0</td>\n",
       "      <td>3.5</td>\n",
       "      <td>1</td>\n",
       "    </tr>\n",
       "  </tbody>\n",
       "</table>\n",
       "</div>"
      ],
      "text/plain": [
       "  Primary_word Node_A_word link_category Node_B_word  link_distance  \\\n",
       "0        ADEPT       ADEPT      SKILLFUL      ADROIT              1   \n",
       "1        ADEPT       ADEPT      SKILLFUL  CONSUMMATE              1   \n",
       "2        ADEPT       ADEPT      SKILLFUL        DEFT              1   \n",
       "3        ADEPT       ADEPT      SKILLFUL   DEXTEROUS              1   \n",
       "4        ADEPT       ADEPT      SKILLFUL  PROFICIENT              1   \n",
       "\n",
       "   link_degree  Primary_distance  Primary_degree  link_strength  link_count  \n",
       "0            0                 1               0            3.5           1  \n",
       "1            0                 1               0            3.5           1  \n",
       "2            0                 1               0            3.5           1  \n",
       "3            0                 1               0            3.5           1  \n",
       "4            0                 1               0            3.5           1  "
      ]
     },
     "metadata": {},
     "output_type": "display_data"
    },
    {
     "name": "stdout",
     "output_type": "stream",
     "text": [
      "Columns: 10\n",
      "Primary_word, Node_A_word, link_category, Node_B_word, link_distance, link_degree, Primary_distance, Primary_degree, link_strength, link_count\n",
      "\n",
      "#Rows: 8066\n",
      "------------------ \n",
      "\n"
     ]
    }
   ],
   "source": [
    "Col_wn_l = ['Primary_word', 'Node_A_word', 'link_category', 'Node_B_word']\n",
    "Val_wn_l = ['link_distance', 'link_degree', 'Primary_distance', 'Primary_degree', 'link_strength', 'link_count']\n",
    "\n",
    "df_word_network = df_network_final.groupby(Col_wn_l)[Val_wn_l].min().reset_index()\n",
    "\n",
    "df_tools.preview_df(df_word_network)"
   ]
  },
  {
   "cell_type": "code",
   "execution_count": 14,
   "metadata": {
    "collapsed": false
   },
   "outputs": [
    {
     "name": "stdout",
     "output_type": "stream",
     "text": [
      "------------------\n",
      "Top 5 rows:\n"
     ]
    },
    {
     "data": {
      "text/html": [
       "<div>\n",
       "<style scoped>\n",
       "    .dataframe tbody tr th:only-of-type {\n",
       "        vertical-align: middle;\n",
       "    }\n",
       "\n",
       "    .dataframe tbody tr th {\n",
       "        vertical-align: top;\n",
       "    }\n",
       "\n",
       "    .dataframe thead th {\n",
       "        text-align: right;\n",
       "    }\n",
       "</style>\n",
       "<table border=\"1\" class=\"dataframe\">\n",
       "  <thead>\n",
       "    <tr style=\"text-align: right;\">\n",
       "      <th></th>\n",
       "      <th>Primary_word</th>\n",
       "      <th>Node_A_word</th>\n",
       "      <th>link_category</th>\n",
       "      <th>Node_B_word</th>\n",
       "      <th>link_distance</th>\n",
       "      <th>link_degree</th>\n",
       "      <th>Primary_distance</th>\n",
       "      <th>Primary_degree</th>\n",
       "      <th>link_strength</th>\n",
       "      <th>link_count</th>\n",
       "      <th>primary_link</th>\n",
       "    </tr>\n",
       "  </thead>\n",
       "  <tbody>\n",
       "    <tr>\n",
       "      <th>0</th>\n",
       "      <td>ADEPT</td>\n",
       "      <td>ADEPT</td>\n",
       "      <td>SKILLFUL</td>\n",
       "      <td>ADROIT</td>\n",
       "      <td>1</td>\n",
       "      <td>0</td>\n",
       "      <td>1</td>\n",
       "      <td>0</td>\n",
       "      <td>3.5</td>\n",
       "      <td>1</td>\n",
       "      <td>Y</td>\n",
       "    </tr>\n",
       "    <tr>\n",
       "      <th>1</th>\n",
       "      <td>ADEPT</td>\n",
       "      <td>ADEPT</td>\n",
       "      <td>SKILLFUL</td>\n",
       "      <td>CONSUMMATE</td>\n",
       "      <td>1</td>\n",
       "      <td>0</td>\n",
       "      <td>1</td>\n",
       "      <td>0</td>\n",
       "      <td>3.5</td>\n",
       "      <td>1</td>\n",
       "      <td>Y</td>\n",
       "    </tr>\n",
       "    <tr>\n",
       "      <th>2</th>\n",
       "      <td>ADEPT</td>\n",
       "      <td>ADEPT</td>\n",
       "      <td>SKILLFUL</td>\n",
       "      <td>DEFT</td>\n",
       "      <td>1</td>\n",
       "      <td>0</td>\n",
       "      <td>1</td>\n",
       "      <td>0</td>\n",
       "      <td>3.5</td>\n",
       "      <td>1</td>\n",
       "      <td>Y</td>\n",
       "    </tr>\n",
       "    <tr>\n",
       "      <th>3</th>\n",
       "      <td>ADEPT</td>\n",
       "      <td>ADEPT</td>\n",
       "      <td>SKILLFUL</td>\n",
       "      <td>DEXTEROUS</td>\n",
       "      <td>1</td>\n",
       "      <td>0</td>\n",
       "      <td>1</td>\n",
       "      <td>0</td>\n",
       "      <td>3.5</td>\n",
       "      <td>1</td>\n",
       "      <td>Y</td>\n",
       "    </tr>\n",
       "    <tr>\n",
       "      <th>4</th>\n",
       "      <td>ADEPT</td>\n",
       "      <td>ADEPT</td>\n",
       "      <td>SKILLFUL</td>\n",
       "      <td>PROFICIENT</td>\n",
       "      <td>1</td>\n",
       "      <td>0</td>\n",
       "      <td>1</td>\n",
       "      <td>0</td>\n",
       "      <td>3.5</td>\n",
       "      <td>1</td>\n",
       "      <td>Y</td>\n",
       "    </tr>\n",
       "  </tbody>\n",
       "</table>\n",
       "</div>"
      ],
      "text/plain": [
       "  Primary_word Node_A_word link_category Node_B_word  link_distance  \\\n",
       "0        ADEPT       ADEPT      SKILLFUL      ADROIT              1   \n",
       "1        ADEPT       ADEPT      SKILLFUL  CONSUMMATE              1   \n",
       "2        ADEPT       ADEPT      SKILLFUL        DEFT              1   \n",
       "3        ADEPT       ADEPT      SKILLFUL   DEXTEROUS              1   \n",
       "4        ADEPT       ADEPT      SKILLFUL  PROFICIENT              1   \n",
       "\n",
       "   link_degree  Primary_distance  Primary_degree  link_strength  link_count  \\\n",
       "0            0                 1               0            3.5           1   \n",
       "1            0                 1               0            3.5           1   \n",
       "2            0                 1               0            3.5           1   \n",
       "3            0                 1               0            3.5           1   \n",
       "4            0                 1               0            3.5           1   \n",
       "\n",
       "  primary_link  \n",
       "0            Y  \n",
       "1            Y  \n",
       "2            Y  \n",
       "3            Y  \n",
       "4            Y  "
      ]
     },
     "metadata": {},
     "output_type": "display_data"
    },
    {
     "name": "stdout",
     "output_type": "stream",
     "text": [
      "Columns: 11\n",
      "Primary_word, Node_A_word, link_category, Node_B_word, link_distance, link_degree, Primary_distance, Primary_degree, link_strength, link_count, primary_link\n",
      "\n",
      "#Rows: 8066\n",
      "------------------ \n",
      "\n"
     ]
    }
   ],
   "source": [
    "# Ranking\n",
    "df_word_network_1 = df_word_network.copy()\n",
    "\n",
    "df_word_network_1['_dist_rank'] = df_word_network_1.groupby(['Primary_word', 'Node_B_word'])['link_distance'].rank('dense', ascending=True)\n",
    "df_word_network_1['_node_rank'] = df_word_network_1.groupby(['Primary_word', 'Node_B_word', '_dist_rank'])['link_count'].rank('dense', ascending=False)\n",
    "df_word_network_1['_link_rank'] = df_word_network_1.groupby(['Primary_word', 'Node_B_word', '_dist_rank','_node_rank'])['link_strength'].rank('first', ascending=False)\n",
    "\n",
    "def fun_primary_link(x):\n",
    "    if x['_dist_rank'] == 1 and x['_node_rank'] == 1 and x['_link_rank'] == 1: return 'Y'\n",
    "    else: return 'N'\n",
    "    \n",
    "df_word_network_1['primary_link'] = df_word_network_1.apply(lambda x: fun_primary_link(x), axis= 1)\n",
    "\n",
    "col_l = ['Primary_word', 'Node_A_word', 'link_category', 'Node_B_word', 'link_distance', 'link_degree', 'Primary_distance', 'Primary_degree', 'link_strength', 'link_count', 'primary_link']\n",
    "\n",
    "df_word_network_final = df_word_network_1[col_l]\n",
    "\n",
    "df_tools.preview_df(df_word_network_final)"
   ]
  },
  {
   "cell_type": "code",
   "execution_count": 41,
   "metadata": {
    "collapsed": false
   },
   "outputs": [
    {
     "name": "stdout",
     "output_type": "stream",
     "text": [
      "------------------\n",
      "Top 5 rows:\n"
     ]
    },
    {
     "data": {
      "text/html": [
       "<div>\n",
       "<style scoped>\n",
       "    .dataframe tbody tr th:only-of-type {\n",
       "        vertical-align: middle;\n",
       "    }\n",
       "\n",
       "    .dataframe tbody tr th {\n",
       "        vertical-align: top;\n",
       "    }\n",
       "\n",
       "    .dataframe thead th {\n",
       "        text-align: right;\n",
       "    }\n",
       "</style>\n",
       "<table border=\"1\" class=\"dataframe\">\n",
       "  <thead>\n",
       "    <tr style=\"text-align: right;\">\n",
       "      <th></th>\n",
       "      <th>Primary_word</th>\n",
       "      <th>Node_A_word</th>\n",
       "      <th>link_category</th>\n",
       "      <th>Node_B_word</th>\n",
       "      <th>link_distance</th>\n",
       "      <th>link_degree</th>\n",
       "      <th>Primary_distance</th>\n",
       "      <th>Primary_degree</th>\n",
       "      <th>link_strength</th>\n",
       "      <th>link_count</th>\n",
       "      <th>primary_link</th>\n",
       "    </tr>\n",
       "  </thead>\n",
       "  <tbody>\n",
       "    <tr>\n",
       "      <th>0</th>\n",
       "      <td>ADEPT</td>\n",
       "      <td>ADEPT</td>\n",
       "      <td>SKILLFUL</td>\n",
       "      <td>ADROIT</td>\n",
       "      <td>1</td>\n",
       "      <td>0</td>\n",
       "      <td>1</td>\n",
       "      <td>0</td>\n",
       "      <td>3.5</td>\n",
       "      <td>1</td>\n",
       "      <td>Y</td>\n",
       "    </tr>\n",
       "    <tr>\n",
       "      <th>1</th>\n",
       "      <td>ADEPT</td>\n",
       "      <td>ADEPT</td>\n",
       "      <td>SKILLFUL</td>\n",
       "      <td>CONSUMMATE</td>\n",
       "      <td>1</td>\n",
       "      <td>0</td>\n",
       "      <td>1</td>\n",
       "      <td>0</td>\n",
       "      <td>3.5</td>\n",
       "      <td>1</td>\n",
       "      <td>Y</td>\n",
       "    </tr>\n",
       "    <tr>\n",
       "      <th>2</th>\n",
       "      <td>ADEPT</td>\n",
       "      <td>ADEPT</td>\n",
       "      <td>SKILLFUL</td>\n",
       "      <td>DEFT</td>\n",
       "      <td>1</td>\n",
       "      <td>0</td>\n",
       "      <td>1</td>\n",
       "      <td>0</td>\n",
       "      <td>3.5</td>\n",
       "      <td>1</td>\n",
       "      <td>Y</td>\n",
       "    </tr>\n",
       "    <tr>\n",
       "      <th>3</th>\n",
       "      <td>ADEPT</td>\n",
       "      <td>ADEPT</td>\n",
       "      <td>SKILLFUL</td>\n",
       "      <td>DEXTEROUS</td>\n",
       "      <td>1</td>\n",
       "      <td>0</td>\n",
       "      <td>1</td>\n",
       "      <td>0</td>\n",
       "      <td>3.5</td>\n",
       "      <td>1</td>\n",
       "      <td>Y</td>\n",
       "    </tr>\n",
       "    <tr>\n",
       "      <th>4</th>\n",
       "      <td>ADEPT</td>\n",
       "      <td>ADEPT</td>\n",
       "      <td>SKILLFUL</td>\n",
       "      <td>PROFICIENT</td>\n",
       "      <td>1</td>\n",
       "      <td>0</td>\n",
       "      <td>1</td>\n",
       "      <td>0</td>\n",
       "      <td>3.5</td>\n",
       "      <td>1</td>\n",
       "      <td>Y</td>\n",
       "    </tr>\n",
       "  </tbody>\n",
       "</table>\n",
       "</div>"
      ],
      "text/plain": [
       "  Primary_word Node_A_word link_category Node_B_word  link_distance  \\\n",
       "0        ADEPT       ADEPT      SKILLFUL      ADROIT              1   \n",
       "1        ADEPT       ADEPT      SKILLFUL  CONSUMMATE              1   \n",
       "2        ADEPT       ADEPT      SKILLFUL        DEFT              1   \n",
       "3        ADEPT       ADEPT      SKILLFUL   DEXTEROUS              1   \n",
       "4        ADEPT       ADEPT      SKILLFUL  PROFICIENT              1   \n",
       "\n",
       "   link_degree  Primary_distance  Primary_degree  link_strength  link_count  \\\n",
       "0            0                 1               0            3.5           1   \n",
       "1            0                 1               0            3.5           1   \n",
       "2            0                 1               0            3.5           1   \n",
       "3            0                 1               0            3.5           1   \n",
       "4            0                 1               0            3.5           1   \n",
       "\n",
       "  primary_link  \n",
       "0            Y  \n",
       "1            Y  \n",
       "2            Y  \n",
       "3            Y  \n",
       "4            Y  "
      ]
     },
     "metadata": {},
     "output_type": "display_data"
    },
    {
     "name": "stdout",
     "output_type": "stream",
     "text": [
      "Columns: 11\n",
      "Primary_word, Node_A_word, link_category, Node_B_word, link_distance, link_degree, Primary_distance, Primary_degree, link_strength, link_count, primary_link\n",
      "\n",
      "#Rows: 36\n",
      "------------------ \n",
      "\n"
     ]
    }
   ],
   "source": [
    "df_tools.preview_df(df_word_network_final[df_word_network_final['Primary_word'] =='ADEPT'], 5)"
   ]
  },
  {
   "cell_type": "code",
   "execution_count": null,
   "metadata": {
    "collapsed": true
   },
   "outputs": [],
   "source": []
  },
  {
   "cell_type": "markdown",
   "metadata": {},
   "source": [
    "## Create Coordinates for Nodes in Network"
   ]
  },
  {
   "cell_type": "code",
   "execution_count": 49,
   "metadata": {
    "collapsed": true
   },
   "outputs": [],
   "source": [
    "df_InputData = df_word_network_final.copy()"
   ]
  },
  {
   "cell_type": "code",
   "execution_count": 50,
   "metadata": {
    "collapsed": false
   },
   "outputs": [
    {
     "name": "stdout",
     "output_type": "stream",
     "text": [
      "------------------\n",
      "Top 5 rows:\n"
     ]
    },
    {
     "data": {
      "text/html": [
       "<div>\n",
       "<style scoped>\n",
       "    .dataframe tbody tr th:only-of-type {\n",
       "        vertical-align: middle;\n",
       "    }\n",
       "\n",
       "    .dataframe tbody tr th {\n",
       "        vertical-align: top;\n",
       "    }\n",
       "\n",
       "    .dataframe thead th {\n",
       "        text-align: right;\n",
       "    }\n",
       "</style>\n",
       "<table border=\"1\" class=\"dataframe\">\n",
       "  <thead>\n",
       "    <tr style=\"text-align: right;\">\n",
       "      <th></th>\n",
       "      <th>X</th>\n",
       "      <th>Y</th>\n",
       "      <th>NodeName</th>\n",
       "    </tr>\n",
       "  </thead>\n",
       "  <tbody>\n",
       "    <tr>\n",
       "      <th>ADEPT</th>\n",
       "      <td>0.434503</td>\n",
       "      <td>0.989818</td>\n",
       "      <td>ADEPT</td>\n",
       "    </tr>\n",
       "    <tr>\n",
       "      <th>ADROIT</th>\n",
       "      <td>0.571354</td>\n",
       "      <td>0.989140</td>\n",
       "      <td>ADROIT</td>\n",
       "    </tr>\n",
       "    <tr>\n",
       "      <th>AESTHETIC</th>\n",
       "      <td>0.382561</td>\n",
       "      <td>0.970477</td>\n",
       "      <td>AESTHETIC</td>\n",
       "    </tr>\n",
       "    <tr>\n",
       "      <th>AFFINITY</th>\n",
       "      <td>0.478881</td>\n",
       "      <td>0.007236</td>\n",
       "      <td>AFFINITY</td>\n",
       "    </tr>\n",
       "    <tr>\n",
       "      <th>AGHAST</th>\n",
       "      <td>0.506328</td>\n",
       "      <td>0.567412</td>\n",
       "      <td>AGHAST</td>\n",
       "    </tr>\n",
       "  </tbody>\n",
       "</table>\n",
       "</div>"
      ],
      "text/plain": [
       "                  X         Y   NodeName\n",
       "ADEPT      0.434503  0.989818      ADEPT\n",
       "ADROIT     0.571354  0.989140     ADROIT\n",
       "AESTHETIC  0.382561  0.970477  AESTHETIC\n",
       "AFFINITY   0.478881  0.007236   AFFINITY\n",
       "AGHAST     0.506328  0.567412     AGHAST"
      ]
     },
     "metadata": {},
     "output_type": "display_data"
    },
    {
     "name": "stdout",
     "output_type": "stream",
     "text": [
      "Columns: 3\n",
      "X, Y, NodeName\n",
      "\n",
      "#Rows: 119\n",
      "------------------ \n",
      "\n"
     ]
    }
   ],
   "source": [
    "#Nodes are positioned using the Fruchterman-Reingold force-directed algorithm.\n",
    "\n",
    "Q = nx.Graph()\n",
    "arr_SrcTgt= np.array(df_InputData[['Node_A_word', 'Node_B_word']])\n",
    "Q.add_edges_from(arr_SrcTgt)\n",
    "dict_Coords = nx.spring_layout(Q)\n",
    "\n",
    "df_Raw_Coords = pd.DataFrame(dict_Coords)\n",
    "df_Raw_Coords = df_Raw_Coords.T\n",
    "df_Raw_Coords.columns = ['X','Y']\n",
    "df_Raw_Coords['NodeName'] = df_Raw_Coords.index\n",
    "\n",
    "#Add in a \"Node Name\" for cases where nodes do not link with another named node\n",
    "\n",
    "df_Raw_Coords.fillna(\"Not Specified\", inplace = True)\n",
    "\n",
    "df_tools.preview_df(df_Raw_Coords)"
   ]
  },
  {
   "cell_type": "markdown",
   "metadata": {},
   "source": [
    "#### Joining with the network"
   ]
  },
  {
   "cell_type": "code",
   "execution_count": 51,
   "metadata": {
    "collapsed": false
   },
   "outputs": [
    {
     "name": "stdout",
     "output_type": "stream",
     "text": [
      "------------------\n",
      "Top 5 rows:\n"
     ]
    },
    {
     "data": {
      "text/html": [
       "<div>\n",
       "<style scoped>\n",
       "    .dataframe tbody tr th:only-of-type {\n",
       "        vertical-align: middle;\n",
       "    }\n",
       "\n",
       "    .dataframe tbody tr th {\n",
       "        vertical-align: top;\n",
       "    }\n",
       "\n",
       "    .dataframe thead th {\n",
       "        text-align: right;\n",
       "    }\n",
       "</style>\n",
       "<table border=\"1\" class=\"dataframe\">\n",
       "  <thead>\n",
       "    <tr style=\"text-align: right;\">\n",
       "      <th></th>\n",
       "      <th>NodeName</th>\n",
       "      <th>c_Index</th>\n",
       "    </tr>\n",
       "  </thead>\n",
       "  <tbody>\n",
       "    <tr>\n",
       "      <th>0</th>\n",
       "      <td>ADEPT</td>\n",
       "      <td>1</td>\n",
       "    </tr>\n",
       "    <tr>\n",
       "      <th>1</th>\n",
       "      <td>ADROIT</td>\n",
       "      <td>1</td>\n",
       "    </tr>\n",
       "    <tr>\n",
       "      <th>2</th>\n",
       "      <td>ADEPT</td>\n",
       "      <td>2</td>\n",
       "    </tr>\n",
       "    <tr>\n",
       "      <th>3</th>\n",
       "      <td>CONSUMMATE</td>\n",
       "      <td>2</td>\n",
       "    </tr>\n",
       "    <tr>\n",
       "      <th>4</th>\n",
       "      <td>ADEPT</td>\n",
       "      <td>3</td>\n",
       "    </tr>\n",
       "  </tbody>\n",
       "</table>\n",
       "</div>"
      ],
      "text/plain": [
       "     NodeName  c_Index\n",
       "0       ADEPT        1\n",
       "1      ADROIT        1\n",
       "2       ADEPT        2\n",
       "3  CONSUMMATE        2\n",
       "4       ADEPT        3"
      ]
     },
     "metadata": {},
     "output_type": "display_data"
    },
    {
     "name": "stdout",
     "output_type": "stream",
     "text": [
      "Columns: 2\n",
      "NodeName, c_Index\n",
      "\n",
      "#Rows: 16132\n",
      "------------------ \n",
      "\n"
     ]
    }
   ],
   "source": [
    "#Create bridge between main dataset and coordinates\n",
    "\n",
    "arr_SrcTgt2 = arr_SrcTgt.reshape(1,(len(arr_SrcTgt)*2))\n",
    "arr_SrcTgt2 = arr_SrcTgt2.reshape(-1)\n",
    "df_SrcTgt = pd.DataFrame(arr_SrcTgt2,columns=['NodeName'])\n",
    "arr_Index = []\n",
    "for i in range(1,(len(arr_SrcTgt)+1)):\n",
    "        arr_Index.append(i)\n",
    "        arr_Index.append(i)\n",
    "df_SrcTgt['c_Index'] = arr_Index\n",
    "\n",
    "df_tools.preview_df(df_SrcTgt)"
   ]
  },
  {
   "cell_type": "code",
   "execution_count": 52,
   "metadata": {
    "collapsed": false
   },
   "outputs": [],
   "source": [
    "#Join the datasets\n",
    "\n",
    "df_InputData.index = df_InputData.index + 1\n",
    "\n",
    "Merge_1 = pd.merge(\n",
    "    left=df_SrcTgt,\n",
    "    right=df_InputData,\n",
    "    how=\"inner\",\n",
    "    left_on=df_SrcTgt['c_Index'],\n",
    "    right_index=True,\n",
    ")\n",
    "\n",
    "df_MainDat = pd.DataFrame(Merge_1)\n",
    "df_MainDat = df_MainDat.drop(columns=['key_0'])\n",
    "\n",
    "Merge_2 = pd.merge(\n",
    "    left=df_Raw_Coords,\n",
    "    right=df_MainDat,\n",
    "    how=\"left\",\n",
    "    left_on=df_Raw_Coords['NodeName'],\n",
    "    right_on=df_MainDat['NodeName'],\n",
    "    suffixes=(\"\", \"_y\"),\n",
    ")\n",
    "\n",
    "df_finaldat = pd.DataFrame(Merge_2)\n",
    "df_finaldat = df_finaldat.drop(columns=['key_0','NodeName_y'])\n",
    "\n",
    "df_tools.preview_df(df_finaldat)"
   ]
  },
  {
   "cell_type": "code",
   "execution_count": 54,
   "metadata": {
    "collapsed": false
   },
   "outputs": [
    {
     "name": "stdout",
     "output_type": "stream",
     "text": [
      "------------------\n",
      "Top 5 rows:\n"
     ]
    },
    {
     "data": {
      "text/html": [
       "<div>\n",
       "<style scoped>\n",
       "    .dataframe tbody tr th:only-of-type {\n",
       "        vertical-align: middle;\n",
       "    }\n",
       "\n",
       "    .dataframe tbody tr th {\n",
       "        vertical-align: top;\n",
       "    }\n",
       "\n",
       "    .dataframe thead th {\n",
       "        text-align: right;\n",
       "    }\n",
       "</style>\n",
       "<table border=\"1\" class=\"dataframe\">\n",
       "  <thead>\n",
       "    <tr style=\"text-align: right;\">\n",
       "      <th></th>\n",
       "      <th>X</th>\n",
       "      <th>Y</th>\n",
       "      <th>NodeName</th>\n",
       "      <th>c_Index</th>\n",
       "      <th>Primary_word</th>\n",
       "      <th>Node_A_word</th>\n",
       "      <th>link_category</th>\n",
       "      <th>Node_B_word</th>\n",
       "      <th>link_distance</th>\n",
       "      <th>link_degree</th>\n",
       "      <th>Primary_distance</th>\n",
       "      <th>Primary_degree</th>\n",
       "      <th>link_strength</th>\n",
       "      <th>link_count</th>\n",
       "      <th>primary_link</th>\n",
       "    </tr>\n",
       "  </thead>\n",
       "  <tbody>\n",
       "    <tr>\n",
       "      <th>0</th>\n",
       "      <td>0.434503</td>\n",
       "      <td>0.989818</td>\n",
       "      <td>ADEPT</td>\n",
       "      <td>1</td>\n",
       "      <td>ADEPT</td>\n",
       "      <td>ADEPT</td>\n",
       "      <td>SKILLFUL</td>\n",
       "      <td>ADROIT</td>\n",
       "      <td>1</td>\n",
       "      <td>0</td>\n",
       "      <td>1</td>\n",
       "      <td>0</td>\n",
       "      <td>3.5</td>\n",
       "      <td>1</td>\n",
       "      <td>Y</td>\n",
       "    </tr>\n",
       "    <tr>\n",
       "      <th>72</th>\n",
       "      <td>0.571354</td>\n",
       "      <td>0.989140</td>\n",
       "      <td>ADROIT</td>\n",
       "      <td>1</td>\n",
       "      <td>ADEPT</td>\n",
       "      <td>ADEPT</td>\n",
       "      <td>SKILLFUL</td>\n",
       "      <td>ADROIT</td>\n",
       "      <td>1</td>\n",
       "      <td>0</td>\n",
       "      <td>1</td>\n",
       "      <td>0</td>\n",
       "      <td>3.5</td>\n",
       "      <td>1</td>\n",
       "      <td>Y</td>\n",
       "    </tr>\n",
       "  </tbody>\n",
       "</table>\n",
       "</div>"
      ],
      "text/plain": [
       "           X         Y NodeName  c_Index Primary_word Node_A_word  \\\n",
       "0   0.434503  0.989818    ADEPT        1        ADEPT       ADEPT   \n",
       "72  0.571354  0.989140   ADROIT        1        ADEPT       ADEPT   \n",
       "\n",
       "   link_category Node_B_word  link_distance  link_degree  Primary_distance  \\\n",
       "0       SKILLFUL      ADROIT              1            0                 1   \n",
       "72      SKILLFUL      ADROIT              1            0                 1   \n",
       "\n",
       "    Primary_degree  link_strength  link_count primary_link  \n",
       "0                0            3.5           1            Y  \n",
       "72               0            3.5           1            Y  "
      ]
     },
     "metadata": {},
     "output_type": "display_data"
    },
    {
     "name": "stdout",
     "output_type": "stream",
     "text": [
      "Columns: 15\n",
      "X, Y, NodeName, c_Index, Primary_word, Node_A_word, link_category, Node_B_word, link_distance, link_degree, Primary_distance, Primary_degree, link_strength, link_count, primary_link\n",
      "\n",
      "#Rows: 2\n",
      "------------------ \n",
      "\n"
     ]
    }
   ],
   "source": [
    "df_tools.preview_df(df_finaldat[df_finaldat['c_Index']==1])"
   ]
  },
  {
   "cell_type": "code",
   "execution_count": 55,
   "metadata": {
    "collapsed": true
   },
   "outputs": [],
   "source": [
    "os.chdir(output_dir)\n",
    "\n",
    "df_finaldat.to_excel('word_network_test.xlsx', index = False)"
   ]
  },
  {
   "cell_type": "code",
   "execution_count": null,
   "metadata": {
    "collapsed": true
   },
   "outputs": [],
   "source": []
  },
  {
   "cell_type": "markdown",
   "metadata": {},
   "source": [
    "## QC"
   ]
  },
  {
   "cell_type": "code",
   "execution_count": 38,
   "metadata": {
    "collapsed": false
   },
   "outputs": [
    {
     "name": "stdout",
     "output_type": "stream",
     "text": [
      "------------------\n",
      "Top 5 rows:\n"
     ]
    },
    {
     "data": {
      "text/html": [
       "<div>\n",
       "<style scoped>\n",
       "    .dataframe tbody tr th:only-of-type {\n",
       "        vertical-align: middle;\n",
       "    }\n",
       "\n",
       "    .dataframe tbody tr th {\n",
       "        vertical-align: top;\n",
       "    }\n",
       "\n",
       "    .dataframe thead th {\n",
       "        text-align: right;\n",
       "    }\n",
       "</style>\n",
       "<table border=\"1\" class=\"dataframe\">\n",
       "  <thead>\n",
       "    <tr style=\"text-align: right;\">\n",
       "      <th></th>\n",
       "      <th>NodeName</th>\n",
       "    </tr>\n",
       "  </thead>\n",
       "  <tbody>\n",
       "    <tr>\n",
       "      <th>0</th>\n",
       "      <td>ADEPT</td>\n",
       "    </tr>\n",
       "    <tr>\n",
       "      <th>1</th>\n",
       "      <td>ADROIT</td>\n",
       "    </tr>\n",
       "    <tr>\n",
       "      <th>2</th>\n",
       "      <td>ADEPT</td>\n",
       "    </tr>\n",
       "    <tr>\n",
       "      <th>3</th>\n",
       "      <td>CONSUMMATE</td>\n",
       "    </tr>\n",
       "    <tr>\n",
       "      <th>4</th>\n",
       "      <td>ADEPT</td>\n",
       "    </tr>\n",
       "  </tbody>\n",
       "</table>\n",
       "</div>"
      ],
      "text/plain": [
       "     NodeName\n",
       "0       ADEPT\n",
       "1      ADROIT\n",
       "2       ADEPT\n",
       "3  CONSUMMATE\n",
       "4       ADEPT"
      ]
     },
     "metadata": {},
     "output_type": "display_data"
    },
    {
     "name": "stdout",
     "output_type": "stream",
     "text": [
      "Columns: 1\n",
      "NodeName\n",
      "\n",
      "#Rows: 1732\n",
      "------------------ \n",
      "\n"
     ]
    }
   ],
   "source": [
    "arr_SrcTgt2 = arr_SrcTgt.reshape(1,(len(arr_SrcTgt)*2))\n",
    "arr_SrcTgt2 = arr_SrcTgt2.reshape(-1)\n",
    "df_SrcTgt = pd.DataFrame(arr_SrcTgt2,columns=['NodeName'])\n",
    "\n",
    "\n",
    "df_tools.preview_df(df_SrcTgt)"
   ]
  },
  {
   "cell_type": "code",
   "execution_count": 36,
   "metadata": {
    "collapsed": false
   },
   "outputs": [
    {
     "name": "stdout",
     "output_type": "stream",
     "text": [
      "(866, 2)\n",
      "(1, 1732)\n",
      "(1732,)\n"
     ]
    },
    {
     "data": {
      "text/plain": [
       "(1, 1732)"
      ]
     },
     "execution_count": 36,
     "metadata": {},
     "output_type": "execute_result"
    }
   ],
   "source": [
    "arr_SrcTgt2 = arr_SrcTgt.reshape(1,(len(arr_SrcTgt)*2))\n",
    "arr_SrcTgt3 = arr_SrcTgt2.reshape(-1)\n",
    "\n",
    "print(arr_SrcTgt.shape)\n",
    "print(arr_SrcTgt2.shape)\n",
    "print(arr_SrcTgt3.shape)\n",
    "arr_SrcTgt2.shape"
   ]
  },
  {
   "cell_type": "code",
   "execution_count": 20,
   "metadata": {
    "collapsed": false
   },
   "outputs": [
    {
     "data": {
      "text/plain": [
       "array([['ADEPT', 'ADROIT', 'ADEPT', ..., 'PRECOCIOUS', 'SANGUINE',\n",
       "        'BUOYANT']], dtype=object)"
      ]
     },
     "execution_count": 20,
     "metadata": {},
     "output_type": "execute_result"
    }
   ],
   "source": [
    "arr_SrcTgt2 = arr_SrcTgt.reshape(1,(len(arr_SrcTgt)*2))\n",
    "\n",
    "arr_SrcTgt2"
   ]
  },
  {
   "cell_type": "code",
   "execution_count": 22,
   "metadata": {
    "collapsed": false
   },
   "outputs": [
    {
     "data": {
      "text/plain": [
       "866"
      ]
     },
     "execution_count": 22,
     "metadata": {},
     "output_type": "execute_result"
    }
   ],
   "source": [
    "len(arr_SrcTgt)"
   ]
  },
  {
   "cell_type": "code",
   "execution_count": 24,
   "metadata": {
    "collapsed": false
   },
   "outputs": [
    {
     "data": {
      "text/plain": [
       "1732"
      ]
     },
     "execution_count": 24,
     "metadata": {},
     "output_type": "execute_result"
    }
   ],
   "source": [
    "len(arr_SrcTgt2[0])"
   ]
  },
  {
   "cell_type": "code",
   "execution_count": 28,
   "metadata": {
    "collapsed": false
   },
   "outputs": [
    {
     "data": {
      "text/plain": [
       "1732"
      ]
     },
     "execution_count": 28,
     "metadata": {},
     "output_type": "execute_result"
    }
   ],
   "source": [
    "arr_SrcTgt.size"
   ]
  },
  {
   "cell_type": "markdown",
   "metadata": {},
   "source": [
    "## EXPORT"
   ]
  },
  {
   "cell_type": "code",
   "execution_count": 147,
   "metadata": {
    "collapsed": true
   },
   "outputs": [],
   "source": [
    "os.chdir(output_dir)\n",
    "\n",
    "df_word_network_final.to_excel('word_network_final.xlsx', index = False)\n",
    "df_word_network_final.to_csv('word_network_final.csv')"
   ]
  },
  {
   "cell_type": "code",
   "execution_count": null,
   "metadata": {
    "collapsed": true
   },
   "outputs": [],
   "source": []
  }
 ],
 "metadata": {
  "anaconda-cloud": {},
  "kernelspec": {
   "display_name": "Python [default]",
   "language": "python",
   "name": "python3"
  },
  "language_info": {
   "codemirror_mode": {
    "name": "ipython",
    "version": 3
   },
   "file_extension": ".py",
   "mimetype": "text/x-python",
   "name": "python",
   "nbconvert_exporter": "python",
   "pygments_lexer": "ipython3",
   "version": "3.5.2"
  }
 },
 "nbformat": 4,
 "nbformat_minor": 1
}

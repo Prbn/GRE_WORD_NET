{
 "cells": [
  {
   "cell_type": "markdown",
   "metadata": {},
   "source": [
    "## Libraries"
   ]
  },
  {
   "cell_type": "code",
   "execution_count": 21,
   "metadata": {
    "collapsed": true
   },
   "outputs": [],
   "source": [
    "# Libraries\n",
    "import sys\n",
    "import pandas as pd\n",
    "import os\n",
    "import numpy as np\n",
    "import pickle\n",
    "import networkx as nx\n",
    "import pyperclip\n",
    "import ast\n",
    "\n",
    "import win32clipboard"
   ]
  },
  {
   "cell_type": "markdown",
   "metadata": {},
   "source": [
    "## Directory"
   ]
  },
  {
   "cell_type": "code",
   "execution_count": 2,
   "metadata": {
    "collapsed": false
   },
   "outputs": [
    {
     "name": "stdout",
     "output_type": "stream",
     "text": [
      "Paths:\n",
      "Main: D:\\Projects\\GRE_WORD_TOOL\\Project\n",
      "Input: D:\\Projects\\GRE_WORD_TOOL\\Project\\Input\n",
      "Interim: D:\\Projects\\GRE_WORD_TOOL\\Project\\Interim\n",
      "Output: D:\\Projects\\GRE_WORD_TOOL\\Project\\Output\n",
      "Utilities: D:\\Projects\\GRE_WORD_TOOL\\Project\\Utilities\n",
      "Log: D:\\Projects\\GRE_WORD_TOOL\\Project\\Log\n"
     ]
    }
   ],
   "source": [
    "code_dir = os.getcwd()\n",
    "\n",
    "def parent_dir(dir, n: int):\n",
    "    if n > 0: return parent_dir(os.path.abspath(os.path.join(dir, os.pardir)), n-1)\n",
    "    else: return dir\n",
    "\n",
    "main_dir = parent_dir(code_dir,1)\n",
    "input_dir = main_dir + r'\\Input'\n",
    "interim_dir = main_dir + r'\\Interim'\n",
    "output_dir = main_dir + r'\\Output'\n",
    "util_dir = main_dir + r'\\Utilities'\n",
    "log_dir = main_dir + r'\\Log'\n",
    "\n",
    "print('Paths:')\n",
    "print('Main: {}'.format(main_dir))\n",
    "print('Input: {}'.format(input_dir))\n",
    "print('Interim: {}'.format(interim_dir))\n",
    "print('Output: {}'.format(output_dir))\n",
    "print('Utilities: {}'.format(util_dir))\n",
    "print('Log: {}'.format(log_dir))"
   ]
  },
  {
   "cell_type": "markdown",
   "metadata": {},
   "source": [
    "## Modules LIB"
   ]
  },
  {
   "cell_type": "code",
   "execution_count": 3,
   "metadata": {
    "collapsed": false
   },
   "outputs": [
    {
     "name": "stdout",
     "output_type": "stream",
     "text": [
      "df_tools imported.\n"
     ]
    }
   ],
   "source": [
    "# Modules\n",
    "sys.path.insert(0,main_dir)\n",
    "sys.path.insert(0,util_dir)\n",
    "\n",
    "from Utilities import *\n",
    "os.chdir(input_dir)"
   ]
  },
  {
   "cell_type": "markdown",
   "metadata": {},
   "source": [
    "## IMPORT"
   ]
  },
  {
   "cell_type": "code",
   "execution_count": 16,
   "metadata": {
    "collapsed": false
   },
   "outputs": [],
   "source": [
    "def isopp(s):\n",
    "    if s.find('opposite') != -1: return 'Y'\n",
    "    else: return 'N'\n",
    "    \n",
    "def opp_replace(s):\n",
    "    new_s = s.replace(\" (opposite)\", \"\")\n",
    "    return new_s.strip()"
   ]
  },
  {
   "cell_type": "code",
   "execution_count": 70,
   "metadata": {
    "collapsed": false
   },
   "outputs": [
    {
     "name": "stdout",
     "output_type": "stream",
     "text": [
      "------------------\n",
      "Top 5 rows:\n"
     ]
    },
    {
     "data": {
      "text/html": [
       "<div>\n",
       "<style scoped>\n",
       "    .dataframe tbody tr th:only-of-type {\n",
       "        vertical-align: middle;\n",
       "    }\n",
       "\n",
       "    .dataframe tbody tr th {\n",
       "        vertical-align: top;\n",
       "    }\n",
       "\n",
       "    .dataframe thead th {\n",
       "        text-align: right;\n",
       "    }\n",
       "</style>\n",
       "<table border=\"1\" class=\"dataframe\">\n",
       "  <thead>\n",
       "    <tr style=\"text-align: right;\">\n",
       "      <th></th>\n",
       "      <th>Opp</th>\n",
       "      <th>word</th>\n",
       "      <th>meaning</th>\n",
       "      <th>example</th>\n",
       "    </tr>\n",
       "  </thead>\n",
       "  <tbody>\n",
       "    <tr>\n",
       "      <th>0</th>\n",
       "      <td>N</td>\n",
       "      <td>HOMOGENEITY</td>\n",
       "      <td>consisting of things or people that are all th...</td>\n",
       "      <td>Cultural homogeneity is created by education a...</td>\n",
       "    </tr>\n",
       "    <tr>\n",
       "      <th>1</th>\n",
       "      <td>N</td>\n",
       "      <td>UNIFORMITY</td>\n",
       "      <td>being similar</td>\n",
       "      <td>The new Saudi prince is dishing out new reform...</td>\n",
       "    </tr>\n",
       "    <tr>\n",
       "      <th>2</th>\n",
       "      <td>Y</td>\n",
       "      <td>HETEROGENEITY</td>\n",
       "      <td>different</td>\n",
       "      <td>India is a great nation not only because of th...</td>\n",
       "    </tr>\n",
       "  </tbody>\n",
       "</table>\n",
       "</div>"
      ],
      "text/plain": [
       "  Opp           word                                            meaning  \\\n",
       "0   N    HOMOGENEITY  consisting of things or people that are all th...   \n",
       "1   N     UNIFORMITY                                      being similar   \n",
       "2   Y  HETEROGENEITY                                          different   \n",
       "\n",
       "                                             example  \n",
       "0  Cultural homogeneity is created by education a...  \n",
       "1  The new Saudi prince is dishing out new reform...  \n",
       "2  India is a great nation not only because of th...  "
      ]
     },
     "metadata": {},
     "output_type": "display_data"
    },
    {
     "name": "stdout",
     "output_type": "stream",
     "text": [
      "Columns: 4\n",
      "Opp, word, meaning, example\n",
      "\n",
      "#Rows: 3\n",
      "------------------ \n",
      "\n"
     ]
    }
   ],
   "source": [
    "data_s = pyperclip.paste()\n",
    "data = ast.literal_eval(data_s)\n",
    "\n",
    "df_1 = pd.DataFrame.from_dict(data)\n",
    "\n",
    "df = df_1.copy()\n",
    "df['Opp'] = df['word'].apply(lambda x: isopp(x))\n",
    "df['word'] = df['word'].apply(lambda x: opp_replace(x))\n",
    "df = df[['Opp', 'word', 'meaning', 'example']]\n",
    "\n",
    "df.to_clipboard(excel=True, sep=None, index=False, header=None)\n",
    "df_tools.preview_df(df)"
   ]
  },
  {
   "cell_type": "code",
   "execution_count": null,
   "metadata": {
    "collapsed": true
   },
   "outputs": [],
   "source": []
  },
  {
   "cell_type": "code",
   "execution_count": 101,
   "metadata": {
    "collapsed": true
   },
   "outputs": [],
   "source": [
    "# df_collated_group = pd.DataFrame()"
   ]
  },
  {
   "cell_type": "code",
   "execution_count": 105,
   "metadata": {
    "collapsed": false
   },
   "outputs": [
    {
     "name": "stdout",
     "output_type": "stream",
     "text": [
      "------------------\n",
      "Top 5 rows:\n"
     ]
    },
    {
     "data": {
      "text/html": [
       "<div>\n",
       "<style scoped>\n",
       "    .dataframe tbody tr th:only-of-type {\n",
       "        vertical-align: middle;\n",
       "    }\n",
       "\n",
       "    .dataframe tbody tr th {\n",
       "        vertical-align: top;\n",
       "    }\n",
       "\n",
       "    .dataframe thead th {\n",
       "        text-align: right;\n",
       "    }\n",
       "</style>\n",
       "<table border=\"1\" class=\"dataframe\">\n",
       "  <thead>\n",
       "    <tr style=\"text-align: right;\">\n",
       "      <th></th>\n",
       "      <th>groupID</th>\n",
       "      <th>listID</th>\n",
       "      <th>Category</th>\n",
       "    </tr>\n",
       "  </thead>\n",
       "  <tbody>\n",
       "    <tr>\n",
       "      <th>0</th>\n",
       "      <td>56</td>\n",
       "      <td>4</td>\n",
       "      <td>SHORT-LIVED</td>\n",
       "    </tr>\n",
       "    <tr>\n",
       "      <th>1</th>\n",
       "      <td>57</td>\n",
       "      <td>4</td>\n",
       "      <td>NEVER ENDING/NON STOP</td>\n",
       "    </tr>\n",
       "    <tr>\n",
       "      <th>2</th>\n",
       "      <td>58</td>\n",
       "      <td>4</td>\n",
       "      <td>END/STOP</td>\n",
       "    </tr>\n",
       "    <tr>\n",
       "      <th>3</th>\n",
       "      <td>59</td>\n",
       "      <td>4</td>\n",
       "      <td>IRREGULAR/ PERIODICALLY</td>\n",
       "    </tr>\n",
       "    <tr>\n",
       "      <th>4</th>\n",
       "      <td>60</td>\n",
       "      <td>4</td>\n",
       "      <td>CALM DOWN (+) (make better)</td>\n",
       "    </tr>\n",
       "  </tbody>\n",
       "</table>\n",
       "</div>"
      ],
      "text/plain": [
       "  groupID listID                     Category\n",
       "0      56      4                  SHORT-LIVED\n",
       "1      57      4        NEVER ENDING/NON STOP\n",
       "2      58      4                     END/STOP\n",
       "3      59      4      IRREGULAR/ PERIODICALLY\n",
       "4      60      4  CALM DOWN (+) (make better)"
      ]
     },
     "metadata": {},
     "output_type": "display_data"
    },
    {
     "name": "stdout",
     "output_type": "stream",
     "text": [
      "Columns: 3\n",
      "groupID, listID, Category\n",
      "\n",
      "#Rows: 16\n",
      "------------------ \n",
      "\n",
      "------------------\n",
      "Top 5 rows:\n"
     ]
    },
    {
     "data": {
      "text/html": [
       "<div>\n",
       "<style scoped>\n",
       "    .dataframe tbody tr th:only-of-type {\n",
       "        vertical-align: middle;\n",
       "    }\n",
       "\n",
       "    .dataframe tbody tr th {\n",
       "        vertical-align: top;\n",
       "    }\n",
       "\n",
       "    .dataframe thead th {\n",
       "        text-align: right;\n",
       "    }\n",
       "</style>\n",
       "<table border=\"1\" class=\"dataframe\">\n",
       "  <thead>\n",
       "    <tr style=\"text-align: right;\">\n",
       "      <th></th>\n",
       "      <th>groupID</th>\n",
       "      <th>listID</th>\n",
       "      <th>Category</th>\n",
       "    </tr>\n",
       "  </thead>\n",
       "  <tbody>\n",
       "    <tr>\n",
       "      <th>0</th>\n",
       "      <td>56</td>\n",
       "      <td>4</td>\n",
       "      <td>SHORT-LIVED</td>\n",
       "    </tr>\n",
       "    <tr>\n",
       "      <th>1</th>\n",
       "      <td>57</td>\n",
       "      <td>4</td>\n",
       "      <td>NEVER ENDING/NON STOP</td>\n",
       "    </tr>\n",
       "    <tr>\n",
       "      <th>2</th>\n",
       "      <td>58</td>\n",
       "      <td>4</td>\n",
       "      <td>END/STOP</td>\n",
       "    </tr>\n",
       "    <tr>\n",
       "      <th>3</th>\n",
       "      <td>59</td>\n",
       "      <td>4</td>\n",
       "      <td>IRREGULAR/ PERIODICALLY</td>\n",
       "    </tr>\n",
       "    <tr>\n",
       "      <th>4</th>\n",
       "      <td>60</td>\n",
       "      <td>4</td>\n",
       "      <td>CALM DOWN (+) (make better)</td>\n",
       "    </tr>\n",
       "  </tbody>\n",
       "</table>\n",
       "</div>"
      ],
      "text/plain": [
       "  groupID listID                     Category\n",
       "0      56      4                  SHORT-LIVED\n",
       "1      57      4        NEVER ENDING/NON STOP\n",
       "2      58      4                     END/STOP\n",
       "3      59      4      IRREGULAR/ PERIODICALLY\n",
       "4      60      4  CALM DOWN (+) (make better)"
      ]
     },
     "metadata": {},
     "output_type": "display_data"
    },
    {
     "name": "stdout",
     "output_type": "stream",
     "text": [
      "Columns: 3\n",
      "groupID, listID, Category\n",
      "\n",
      "#Rows: 16\n",
      "------------------ \n",
      "\n"
     ]
    }
   ],
   "source": [
    "data_s = pyperclip.paste()\n",
    "data = ast.literal_eval(data_s)\n",
    "\n",
    "df_1 = pd.DataFrame.from_dict(data)\n",
    "\n",
    "df_group = df_1.copy()\n",
    "df_group = df_group.rename(columns = {'id': 'groupID', 'group': 'Category'})\n",
    "df_group = df_group[['groupID', 'listID', 'Category']].drop_duplicates().reset_index(drop = True)\n",
    "df_group = df_group[~(df_group['Category'].isna())]\n",
    "\n",
    "df_collated_group = df_collated_group.append(df_group, ignore_index = True)\n",
    "df_collated_group = df_collated_group.drop_duplicates().reset_index(drop = True)\n",
    "\n",
    "df_tools.preview_df(df_group)\n",
    "df_tools.preview_df(df_collated_group)"
   ]
  },
  {
   "cell_type": "code",
   "execution_count": 99,
   "metadata": {
    "collapsed": true
   },
   "outputs": [],
   "source": [
    "# df_collated_word = pd.DataFrame()"
   ]
  },
  {
   "cell_type": "code",
   "execution_count": 123,
   "metadata": {
    "collapsed": false
   },
   "outputs": [
    {
     "name": "stdout",
     "output_type": "stream",
     "text": [
      "------------------\n",
      "Top 5 rows:\n"
     ]
    },
    {
     "data": {
      "text/html": [
       "<div>\n",
       "<style scoped>\n",
       "    .dataframe tbody tr th:only-of-type {\n",
       "        vertical-align: middle;\n",
       "    }\n",
       "\n",
       "    .dataframe tbody tr th {\n",
       "        vertical-align: top;\n",
       "    }\n",
       "\n",
       "    .dataframe thead th {\n",
       "        text-align: right;\n",
       "    }\n",
       "</style>\n",
       "<table border=\"1\" class=\"dataframe\">\n",
       "  <thead>\n",
       "    <tr style=\"text-align: right;\">\n",
       "      <th></th>\n",
       "      <th>id</th>\n",
       "      <th>groupID</th>\n",
       "      <th>Opp</th>\n",
       "      <th>word</th>\n",
       "      <th>meaning</th>\n",
       "      <th>example</th>\n",
       "    </tr>\n",
       "  </thead>\n",
       "  <tbody>\n",
       "    <tr>\n",
       "      <th>0</th>\n",
       "      <td>1875</td>\n",
       "      <td>292</td>\n",
       "      <td>N</td>\n",
       "      <td>AFFILIATED</td>\n",
       "      <td>related</td>\n",
       "      <td>When Travis completed his time in prison, he c...</td>\n",
       "    </tr>\n",
       "    <tr>\n",
       "      <th>1</th>\n",
       "      <td>1876</td>\n",
       "      <td>292</td>\n",
       "      <td>N</td>\n",
       "      <td>KINDRED</td>\n",
       "      <td>related</td>\n",
       "      <td>My husband and I were brought together by our ...</td>\n",
       "    </tr>\n",
       "  </tbody>\n",
       "</table>\n",
       "</div>"
      ],
      "text/plain": [
       "     id groupID Opp        word  meaning  \\\n",
       "0  1875     292   N  AFFILIATED  related   \n",
       "1  1876     292   N     KINDRED  related   \n",
       "\n",
       "                                             example  \n",
       "0  When Travis completed his time in prison, he c...  \n",
       "1  My husband and I were brought together by our ...  "
      ]
     },
     "metadata": {},
     "output_type": "display_data"
    },
    {
     "name": "stdout",
     "output_type": "stream",
     "text": [
      "Columns: 6\n",
      "id, groupID, Opp, word, meaning, example\n",
      "\n",
      "#Rows: 2\n",
      "------------------ \n",
      "\n",
      "------------------\n",
      "Top 5 rows:\n"
     ]
    },
    {
     "data": {
      "text/html": [
       "<div>\n",
       "<style scoped>\n",
       "    .dataframe tbody tr th:only-of-type {\n",
       "        vertical-align: middle;\n",
       "    }\n",
       "\n",
       "    .dataframe tbody tr th {\n",
       "        vertical-align: top;\n",
       "    }\n",
       "\n",
       "    .dataframe thead th {\n",
       "        text-align: right;\n",
       "    }\n",
       "</style>\n",
       "<table border=\"1\" class=\"dataframe\">\n",
       "  <thead>\n",
       "    <tr style=\"text-align: right;\">\n",
       "      <th></th>\n",
       "      <th>id</th>\n",
       "      <th>groupID</th>\n",
       "      <th>Opp</th>\n",
       "      <th>word</th>\n",
       "      <th>meaning</th>\n",
       "      <th>example</th>\n",
       "    </tr>\n",
       "  </thead>\n",
       "  <tbody>\n",
       "    <tr>\n",
       "      <th>0</th>\n",
       "      <td>391</td>\n",
       "      <td>56</td>\n",
       "      <td>N</td>\n",
       "      <td>EPHEMERAL</td>\n",
       "      <td>lasting for a short time</td>\n",
       "      <td>Capturing those ephemeral images has been a ch...</td>\n",
       "    </tr>\n",
       "    <tr>\n",
       "      <th>1</th>\n",
       "      <td>392</td>\n",
       "      <td>56</td>\n",
       "      <td>N</td>\n",
       "      <td>EVANESCENT</td>\n",
       "      <td>lasting for a short time</td>\n",
       "      <td>When compared with the timelessness of the uni...</td>\n",
       "    </tr>\n",
       "    <tr>\n",
       "      <th>2</th>\n",
       "      <td>393</td>\n",
       "      <td>56</td>\n",
       "      <td>N</td>\n",
       "      <td>FLEETING</td>\n",
       "      <td>lasting for a short time</td>\n",
       "      <td>I had a fleeting desire to jump into the cool ...</td>\n",
       "    </tr>\n",
       "    <tr>\n",
       "      <th>3</th>\n",
       "      <td>394</td>\n",
       "      <td>56</td>\n",
       "      <td>N</td>\n",
       "      <td>TRANSIENT</td>\n",
       "      <td>temporary</td>\n",
       "      <td>These are short term transient benefits at the...</td>\n",
       "    </tr>\n",
       "    <tr>\n",
       "      <th>4</th>\n",
       "      <td>395</td>\n",
       "      <td>56</td>\n",
       "      <td>N</td>\n",
       "      <td>TRANSITORY</td>\n",
       "      <td>temporary</td>\n",
       "      <td>A transitory panic struck me when I realized t...</td>\n",
       "    </tr>\n",
       "  </tbody>\n",
       "</table>\n",
       "</div>"
      ],
      "text/plain": [
       "    id groupID Opp        word                   meaning  \\\n",
       "0  391      56   N   EPHEMERAL  lasting for a short time   \n",
       "1  392      56   N  EVANESCENT  lasting for a short time   \n",
       "2  393      56   N    FLEETING  lasting for a short time   \n",
       "3  394      56   N   TRANSIENT                 temporary   \n",
       "4  395      56   N  TRANSITORY                 temporary   \n",
       "\n",
       "                                             example  \n",
       "0  Capturing those ephemeral images has been a ch...  \n",
       "1  When compared with the timelessness of the uni...  \n",
       "2  I had a fleeting desire to jump into the cool ...  \n",
       "3  These are short term transient benefits at the...  \n",
       "4  A transitory panic struck me when I realized t...  "
      ]
     },
     "metadata": {},
     "output_type": "display_data"
    },
    {
     "name": "stdout",
     "output_type": "stream",
     "text": [
      "Columns: 6\n",
      "id, groupID, Opp, word, meaning, example\n",
      "\n",
      "#Rows: 149\n",
      "------------------ \n",
      "\n"
     ]
    }
   ],
   "source": [
    "data_s = pyperclip.paste()\n",
    "data = ast.literal_eval(data_s)\n",
    "\n",
    "df_1 = pd.DataFrame.from_dict(data)\n",
    "\n",
    "df_word = df_1.copy()\n",
    "\n",
    "df_word['Opp'] = df_word['word'].apply(lambda x: isopp(x))\n",
    "df_word['word'] = df_word['word'].apply(lambda x: opp_replace(x))\n",
    "\n",
    "df_word = df_word[['id','groupID','Opp', 'word', 'meaning', 'example']]\n",
    "df_word = df_word.drop_duplicates().reset_index(drop=True)\n",
    "df_word = df_word[~(df_word['word'].isna())]\n",
    "\n",
    "df_collated_word = df_collated_word.append(df_word, ignore_index = True, sort = False)\n",
    "df_collated_word = df_collated_word.drop_duplicates().reset_index(drop=True)\n",
    "\n",
    "df_tools.preview_df(df_word)\n",
    "df_tools.preview_df(df_collated_word)"
   ]
  },
  {
   "cell_type": "code",
   "execution_count": 86,
   "metadata": {
    "collapsed": false
   },
   "outputs": [],
   "source": [
    "## PROCESS"
   ]
  },
  {
   "cell_type": "code",
   "execution_count": 127,
   "metadata": {
    "collapsed": false
   },
   "outputs": [
    {
     "name": "stdout",
     "output_type": "stream",
     "text": [
      "------------------\n",
      "Top 5 rows:\n"
     ]
    },
    {
     "data": {
      "text/html": [
       "<div>\n",
       "<style scoped>\n",
       "    .dataframe tbody tr th:only-of-type {\n",
       "        vertical-align: middle;\n",
       "    }\n",
       "\n",
       "    .dataframe tbody tr th {\n",
       "        vertical-align: top;\n",
       "    }\n",
       "\n",
       "    .dataframe thead th {\n",
       "        text-align: right;\n",
       "    }\n",
       "</style>\n",
       "<table border=\"1\" class=\"dataframe\">\n",
       "  <thead>\n",
       "    <tr style=\"text-align: right;\">\n",
       "      <th></th>\n",
       "      <th>Category</th>\n",
       "      <th>Opp</th>\n",
       "      <th>word</th>\n",
       "      <th>meaning</th>\n",
       "      <th>example</th>\n",
       "    </tr>\n",
       "  </thead>\n",
       "  <tbody>\n",
       "    <tr>\n",
       "      <th>0</th>\n",
       "      <td>SHORT-LIVED</td>\n",
       "      <td>N</td>\n",
       "      <td>EPHEMERAL</td>\n",
       "      <td>lasting for a short time</td>\n",
       "      <td>Capturing those ephemeral images has been a ch...</td>\n",
       "    </tr>\n",
       "    <tr>\n",
       "      <th>1</th>\n",
       "      <td>SHORT-LIVED</td>\n",
       "      <td>N</td>\n",
       "      <td>EVANESCENT</td>\n",
       "      <td>lasting for a short time</td>\n",
       "      <td>When compared with the timelessness of the uni...</td>\n",
       "    </tr>\n",
       "    <tr>\n",
       "      <th>2</th>\n",
       "      <td>SHORT-LIVED</td>\n",
       "      <td>N</td>\n",
       "      <td>FLEETING</td>\n",
       "      <td>lasting for a short time</td>\n",
       "      <td>I had a fleeting desire to jump into the cool ...</td>\n",
       "    </tr>\n",
       "    <tr>\n",
       "      <th>3</th>\n",
       "      <td>SHORT-LIVED</td>\n",
       "      <td>N</td>\n",
       "      <td>TRANSIENT</td>\n",
       "      <td>temporary</td>\n",
       "      <td>These are short term transient benefits at the...</td>\n",
       "    </tr>\n",
       "    <tr>\n",
       "      <th>4</th>\n",
       "      <td>SHORT-LIVED</td>\n",
       "      <td>N</td>\n",
       "      <td>TRANSITORY</td>\n",
       "      <td>temporary</td>\n",
       "      <td>A transitory panic struck me when I realized t...</td>\n",
       "    </tr>\n",
       "  </tbody>\n",
       "</table>\n",
       "</div>"
      ],
      "text/plain": [
       "      Category Opp        word                   meaning  \\\n",
       "0  SHORT-LIVED   N   EPHEMERAL  lasting for a short time   \n",
       "1  SHORT-LIVED   N  EVANESCENT  lasting for a short time   \n",
       "2  SHORT-LIVED   N    FLEETING  lasting for a short time   \n",
       "3  SHORT-LIVED   N   TRANSIENT                 temporary   \n",
       "4  SHORT-LIVED   N  TRANSITORY                 temporary   \n",
       "\n",
       "                                             example  \n",
       "0  Capturing those ephemeral images has been a ch...  \n",
       "1  When compared with the timelessness of the uni...  \n",
       "2  I had a fleeting desire to jump into the cool ...  \n",
       "3  These are short term transient benefits at the...  \n",
       "4  A transitory panic struck me when I realized t...  "
      ]
     },
     "metadata": {},
     "output_type": "display_data"
    },
    {
     "name": "stdout",
     "output_type": "stream",
     "text": [
      "Columns: 5\n",
      "Category, Opp, word, meaning, example\n",
      "\n",
      "#Rows: 149\n",
      "------------------ \n",
      "\n"
     ]
    }
   ],
   "source": [
    "df = df_collated_group.copy()\n",
    "df = pd.merge(df, df_collated_word, how='left', on ='groupID')\n",
    "\n",
    "df['listID'] = df['listID'].apply(lambda x: int(x))\n",
    "df['groupID'] = df['groupID'].apply(lambda x: int(x))\n",
    "df['id'] = df['id'].apply(lambda x: int(x))\n",
    "\n",
    "df = df.sort_values(by=['listID', 'groupID', 'id', 'word'], ascending=[True, True, True, True])\n",
    "df = df[['Category', 'Opp', 'word', 'meaning', 'example']]\n",
    "\n",
    "df.to_clipboard(excel=True, sep=None, index=False, header=None)\n",
    "df_tools.preview_df(df)"
   ]
  },
  {
   "cell_type": "code",
   "execution_count": null,
   "metadata": {
    "collapsed": true
   },
   "outputs": [],
   "source": []
  },
  {
   "cell_type": "code",
   "execution_count": null,
   "metadata": {
    "collapsed": true
   },
   "outputs": [],
   "source": []
  },
  {
   "cell_type": "code",
   "execution_count": null,
   "metadata": {
    "collapsed": true
   },
   "outputs": [],
   "source": []
  },
  {
   "cell_type": "code",
   "execution_count": 233,
   "metadata": {
    "collapsed": false
   },
   "outputs": [],
   "source": [
    "class jumb_vocab:\n",
    "    df_collated_group = pd.DataFrame()\n",
    "    df_collated_word = pd.DataFrame()\n",
    "    df_collated_word_group = pd.DataFrame()\n",
    "    \n",
    "    def __init__(self):\n",
    "        self.df_collated_group = pd.DataFrame()\n",
    "        self.df_collated_word = pd.DataFrame()\n",
    "        self.df_collated_word_group = pd.DataFrame()\n",
    "    \n",
    "    def fetch_from_clipboard(self):\n",
    "        data_s = pyperclip.paste()\n",
    "        data = ast.literal_eval(data_s)\n",
    "\n",
    "        df_1 = pd.DataFrame.from_dict(data)\n",
    "        return df_1\n",
    "    \n",
    "    def update_group_table(self):\n",
    "        df_group = self.fetch_from_clipboard()\n",
    "        df_group = df_group.rename(columns = {'id': 'groupID', 'group': 'Category'})\n",
    "        df_group = df_group[['groupID', 'listID', 'Category']].drop_duplicates().reset_index(drop = True)\n",
    "        df_group = df_group[~(df_group['Category'].isna())]\n",
    "\n",
    "        self.df_collated_group = self.df_collated_group.append(df_group, ignore_index = True)\n",
    "        self.df_collated_group = self.df_collated_group.drop_duplicates().reset_index(drop = True)\n",
    "\n",
    "        df_tools.preview_df(df_group)\n",
    "        df_tools.preview_df(self.df_collated_group)\n",
    "        \n",
    "        \n",
    "    def update_word_table(self):\n",
    "        df_word = self.fetch_from_clipboard()\n",
    "\n",
    "        df_word['Opp'] = df_word['word'].apply(lambda x: isopp(x))\n",
    "        df_word['word'] = df_word['word'].apply(lambda x: opp_replace(x))\n",
    "\n",
    "        df_word = df_word[['id','groupID','Opp', 'word', 'meaning', 'example']]\n",
    "        df_word = df_word.drop_duplicates().reset_index(drop=True)\n",
    "        df_word = df_word[~(df_word['word'].isna())]\n",
    "\n",
    "        self.df_collated_word = self.df_collated_word.append(df_word, ignore_index = True, sort = False)\n",
    "        self.df_collated_word = self.df_collated_word.drop_duplicates().reset_index(drop=True)\n",
    "\n",
    "        df_tools.preview_df(df_word)\n",
    "        df_tools.preview_df(self.df_collated_word)\n",
    "    \n",
    "    def int_val(self, x):\n",
    "        if x is not None and type(x) is str : return int(x)\n",
    "        else: return 0\n",
    "    \n",
    "    def process_table(self):\n",
    "        df = self.df_collated_group.copy()\n",
    "        df = pd.merge(df, self.df_collated_word, how='left', on ='groupID')\n",
    "\n",
    "        df['listID'] = df['listID'].apply(lambda x: self.int_val(x))\n",
    "        df['groupID'] = df['groupID'].apply(lambda x: self.int_val(x))\n",
    "        df['id'] = df['id'].apply(lambda x: self.int_val(x))\n",
    "\n",
    "        df = df.sort_values(by=['listID', 'groupID', 'id', 'word'], ascending=[True, True, True, True])\n",
    "        self.df_collated_word_group = df.copy()\n",
    "        self.check_missing()\n",
    "        print('Data Processed')\n",
    "    \n",
    "    def check_missing(self):\n",
    "        df_missing = self.df_collated_word_group.copy()\n",
    "        df_missing = df_missing[df_missing['word'].isna()]\n",
    "        \n",
    "        if df_missing.shape[0] >0: \n",
    "            print('Word Missing for the below Category')\n",
    "            df_tools.preview_df(df_missing[['listID', 'groupID', 'Category']])\n",
    "        else:\n",
    "            print('All Categories are present')\n",
    "        \n",
    "    def copy_process_table(self):\n",
    "        self.check_missing()\n",
    "        df = self.df_collated_word_group[['Category', 'Opp', 'word', 'meaning', 'example']]\n",
    "\n",
    "        df.to_clipboard(excel=True, sep=None, index=False, header=None)\n",
    "        df_tools.preview_df(df)\n",
    "    \n",
    "    def export_pickle(self, out_file):\n",
    "        export_dict = {'Collated_Group': self.df_collated_group\n",
    "                       , 'Collated_Word': self.df_collated_word\n",
    "                       , 'Collated_Word_Group': self.df_collated_word_group}\n",
    "        \n",
    "        with open(out_file, 'wb') as handle:\n",
    "            pickle.dump(export_dict, handle, protocol=pickle.HIGHEST_PROTOCOL)\n",
    "            \n",
    "        print('Export successful!')\n",
    "    \n",
    "    \n",
    "    def import_pickle(self, import_file):\n",
    "        with open(import_file, 'rb') as handle:\n",
    "            import_dict = pickle.load(handle)\n",
    "            \n",
    "        self.df_collated_group = import_dict['Collated_Group']\n",
    "        self.df_collated_word = import_dict['Collated_Word']\n",
    "        self.df_collated_word_group = import_dict['Collated_Word_Group']\n",
    "        \n",
    "        print('Import successful!')\n",
    "        \n",
    "    "
   ]
  },
  {
   "cell_type": "code",
   "execution_count": 234,
   "metadata": {
    "collapsed": false
   },
   "outputs": [
    {
     "name": "stdout",
     "output_type": "stream",
     "text": [
      "Word Missing for the below Category\n",
      "------------------\n",
      "Top 5 rows:\n"
     ]
    },
    {
     "data": {
      "text/html": [
       "<div>\n",
       "<style scoped>\n",
       "    .dataframe tbody tr th:only-of-type {\n",
       "        vertical-align: middle;\n",
       "    }\n",
       "\n",
       "    .dataframe tbody tr th {\n",
       "        vertical-align: top;\n",
       "    }\n",
       "\n",
       "    .dataframe thead th {\n",
       "        text-align: right;\n",
       "    }\n",
       "</style>\n",
       "<table border=\"1\" class=\"dataframe\">\n",
       "  <thead>\n",
       "    <tr style=\"text-align: right;\">\n",
       "      <th></th>\n",
       "      <th>listID</th>\n",
       "      <th>groupID</th>\n",
       "      <th>Category</th>\n",
       "    </tr>\n",
       "  </thead>\n",
       "  <tbody>\n",
       "    <tr>\n",
       "      <th>425</th>\n",
       "      <td>7</td>\n",
       "      <td>111</td>\n",
       "      <td>JUST BEGINNING OR DEVELOPING</td>\n",
       "    </tr>\n",
       "    <tr>\n",
       "      <th>426</th>\n",
       "      <td>7</td>\n",
       "      <td>112</td>\n",
       "      <td>EXPERIENCED</td>\n",
       "    </tr>\n",
       "    <tr>\n",
       "      <th>427</th>\n",
       "      <td>7</td>\n",
       "      <td>113</td>\n",
       "      <td>EXPERT</td>\n",
       "    </tr>\n",
       "    <tr>\n",
       "      <th>428</th>\n",
       "      <td>7</td>\n",
       "      <td>114</td>\n",
       "      <td>SUMMARY</td>\n",
       "    </tr>\n",
       "    <tr>\n",
       "      <th>429</th>\n",
       "      <td>7</td>\n",
       "      <td>115</td>\n",
       "      <td>FEELING GUILTY</td>\n",
       "    </tr>\n",
       "  </tbody>\n",
       "</table>\n",
       "</div>"
      ],
      "text/plain": [
       "     listID  groupID                      Category\n",
       "425       7      111  JUST BEGINNING OR DEVELOPING\n",
       "426       7      112                   EXPERIENCED\n",
       "427       7      113                        EXPERT\n",
       "428       7      114                       SUMMARY\n",
       "429       7      115                FEELING GUILTY"
      ]
     },
     "metadata": {},
     "output_type": "display_data"
    },
    {
     "name": "stdout",
     "output_type": "stream",
     "text": [
      "Columns: 3\n",
      "listID, groupID, Category\n",
      "\n",
      "#Rows: 22\n",
      "------------------ \n",
      "\n",
      "Data Processed\n",
      "Word Missing for the below Category\n",
      "------------------\n",
      "Top 5 rows:\n"
     ]
    },
    {
     "data": {
      "text/html": [
       "<div>\n",
       "<style scoped>\n",
       "    .dataframe tbody tr th:only-of-type {\n",
       "        vertical-align: middle;\n",
       "    }\n",
       "\n",
       "    .dataframe tbody tr th {\n",
       "        vertical-align: top;\n",
       "    }\n",
       "\n",
       "    .dataframe thead th {\n",
       "        text-align: right;\n",
       "    }\n",
       "</style>\n",
       "<table border=\"1\" class=\"dataframe\">\n",
       "  <thead>\n",
       "    <tr style=\"text-align: right;\">\n",
       "      <th></th>\n",
       "      <th>listID</th>\n",
       "      <th>groupID</th>\n",
       "      <th>Category</th>\n",
       "    </tr>\n",
       "  </thead>\n",
       "  <tbody>\n",
       "    <tr>\n",
       "      <th>425</th>\n",
       "      <td>7</td>\n",
       "      <td>111</td>\n",
       "      <td>JUST BEGINNING OR DEVELOPING</td>\n",
       "    </tr>\n",
       "    <tr>\n",
       "      <th>426</th>\n",
       "      <td>7</td>\n",
       "      <td>112</td>\n",
       "      <td>EXPERIENCED</td>\n",
       "    </tr>\n",
       "    <tr>\n",
       "      <th>427</th>\n",
       "      <td>7</td>\n",
       "      <td>113</td>\n",
       "      <td>EXPERT</td>\n",
       "    </tr>\n",
       "    <tr>\n",
       "      <th>428</th>\n",
       "      <td>7</td>\n",
       "      <td>114</td>\n",
       "      <td>SUMMARY</td>\n",
       "    </tr>\n",
       "    <tr>\n",
       "      <th>429</th>\n",
       "      <td>7</td>\n",
       "      <td>115</td>\n",
       "      <td>FEELING GUILTY</td>\n",
       "    </tr>\n",
       "  </tbody>\n",
       "</table>\n",
       "</div>"
      ],
      "text/plain": [
       "     listID  groupID                      Category\n",
       "425       7      111  JUST BEGINNING OR DEVELOPING\n",
       "426       7      112                   EXPERIENCED\n",
       "427       7      113                        EXPERT\n",
       "428       7      114                       SUMMARY\n",
       "429       7      115                FEELING GUILTY"
      ]
     },
     "metadata": {},
     "output_type": "display_data"
    },
    {
     "name": "stdout",
     "output_type": "stream",
     "text": [
      "Columns: 3\n",
      "listID, groupID, Category\n",
      "\n",
      "#Rows: 22\n",
      "------------------ \n",
      "\n",
      "------------------\n",
      "Top 5 rows:\n"
     ]
    },
    {
     "data": {
      "text/html": [
       "<div>\n",
       "<style scoped>\n",
       "    .dataframe tbody tr th:only-of-type {\n",
       "        vertical-align: middle;\n",
       "    }\n",
       "\n",
       "    .dataframe tbody tr th {\n",
       "        vertical-align: top;\n",
       "    }\n",
       "\n",
       "    .dataframe thead th {\n",
       "        text-align: right;\n",
       "    }\n",
       "</style>\n",
       "<table border=\"1\" class=\"dataframe\">\n",
       "  <thead>\n",
       "    <tr style=\"text-align: right;\">\n",
       "      <th></th>\n",
       "      <th>Category</th>\n",
       "      <th>Opp</th>\n",
       "      <th>word</th>\n",
       "      <th>meaning</th>\n",
       "      <th>example</th>\n",
       "    </tr>\n",
       "  </thead>\n",
       "  <tbody>\n",
       "    <tr>\n",
       "      <th>0</th>\n",
       "      <td>SHORT-LIVED</td>\n",
       "      <td>N</td>\n",
       "      <td>EPHEMERAL</td>\n",
       "      <td>lasting for a short time</td>\n",
       "      <td>Capturing those ephemeral images has been a ch...</td>\n",
       "    </tr>\n",
       "    <tr>\n",
       "      <th>1</th>\n",
       "      <td>SHORT-LIVED</td>\n",
       "      <td>N</td>\n",
       "      <td>EVANESCENT</td>\n",
       "      <td>lasting for a short time</td>\n",
       "      <td>When compared with the timelessness of the uni...</td>\n",
       "    </tr>\n",
       "    <tr>\n",
       "      <th>2</th>\n",
       "      <td>SHORT-LIVED</td>\n",
       "      <td>N</td>\n",
       "      <td>FLEETING</td>\n",
       "      <td>lasting for a short time</td>\n",
       "      <td>I had a fleeting desire to jump into the cool ...</td>\n",
       "    </tr>\n",
       "    <tr>\n",
       "      <th>3</th>\n",
       "      <td>SHORT-LIVED</td>\n",
       "      <td>N</td>\n",
       "      <td>TRANSIENT</td>\n",
       "      <td>temporary</td>\n",
       "      <td>These are short term transient benefits at the...</td>\n",
       "    </tr>\n",
       "    <tr>\n",
       "      <th>4</th>\n",
       "      <td>SHORT-LIVED</td>\n",
       "      <td>N</td>\n",
       "      <td>TRANSITORY</td>\n",
       "      <td>temporary</td>\n",
       "      <td>A transitory panic struck me when I realized t...</td>\n",
       "    </tr>\n",
       "  </tbody>\n",
       "</table>\n",
       "</div>"
      ],
      "text/plain": [
       "      Category Opp        word                   meaning  \\\n",
       "0  SHORT-LIVED   N   EPHEMERAL  lasting for a short time   \n",
       "1  SHORT-LIVED   N  EVANESCENT  lasting for a short time   \n",
       "2  SHORT-LIVED   N    FLEETING  lasting for a short time   \n",
       "3  SHORT-LIVED   N   TRANSIENT                 temporary   \n",
       "4  SHORT-LIVED   N  TRANSITORY                 temporary   \n",
       "\n",
       "                                             example  \n",
       "0  Capturing those ephemeral images has been a ch...  \n",
       "1  When compared with the timelessness of the uni...  \n",
       "2  I had a fleeting desire to jump into the cool ...  \n",
       "3  These are short term transient benefits at the...  \n",
       "4  A transitory panic struck me when I realized t...  "
      ]
     },
     "metadata": {},
     "output_type": "display_data"
    },
    {
     "name": "stdout",
     "output_type": "stream",
     "text": [
      "Columns: 5\n",
      "Category, Opp, word, meaning, example\n",
      "\n",
      "#Rows: 447\n",
      "------------------ \n",
      "\n"
     ]
    }
   ],
   "source": [
    "vocab = jumb_vocab()\n",
    "vocab.df_collated_group = df_collated_group\n",
    "vocab.df_collated_word = df_collated_word\n",
    "vocab.process_table()\n",
    "vocab.copy_process_table()"
   ]
  },
  {
   "cell_type": "code",
   "execution_count": 413,
   "metadata": {
    "collapsed": false
   },
   "outputs": [
    {
     "name": "stdout",
     "output_type": "stream",
     "text": [
      "------------------\n",
      "Top 5 rows:\n"
     ]
    },
    {
     "data": {
      "text/html": [
       "<div>\n",
       "<style scoped>\n",
       "    .dataframe tbody tr th:only-of-type {\n",
       "        vertical-align: middle;\n",
       "    }\n",
       "\n",
       "    .dataframe tbody tr th {\n",
       "        vertical-align: top;\n",
       "    }\n",
       "\n",
       "    .dataframe thead th {\n",
       "        text-align: right;\n",
       "    }\n",
       "</style>\n",
       "<table border=\"1\" class=\"dataframe\">\n",
       "  <thead>\n",
       "    <tr style=\"text-align: right;\">\n",
       "      <th></th>\n",
       "      <th>groupID</th>\n",
       "      <th>listID</th>\n",
       "      <th>Category</th>\n",
       "    </tr>\n",
       "  </thead>\n",
       "  <tbody>\n",
       "    <tr>\n",
       "      <th>0</th>\n",
       "      <td>264</td>\n",
       "      <td>14</td>\n",
       "      <td>HARSH/BITING/SHARP</td>\n",
       "    </tr>\n",
       "    <tr>\n",
       "      <th>1</th>\n",
       "      <td>265</td>\n",
       "      <td>14</td>\n",
       "      <td>VILLAGE-LIKE</td>\n",
       "    </tr>\n",
       "    <tr>\n",
       "      <th>2</th>\n",
       "      <td>266</td>\n",
       "      <td>14</td>\n",
       "      <td>REVENGE</td>\n",
       "    </tr>\n",
       "    <tr>\n",
       "      <th>3</th>\n",
       "      <td>267</td>\n",
       "      <td>14</td>\n",
       "      <td>AFTER EFFECTS</td>\n",
       "    </tr>\n",
       "    <tr>\n",
       "      <th>4</th>\n",
       "      <td>268</td>\n",
       "      <td>14</td>\n",
       "      <td>SPIRITUAL/X EARTHLY</td>\n",
       "    </tr>\n",
       "  </tbody>\n",
       "</table>\n",
       "</div>"
      ],
      "text/plain": [
       "  groupID listID             Category\n",
       "0     264     14   HARSH/BITING/SHARP\n",
       "1     265     14         VILLAGE-LIKE\n",
       "2     266     14              REVENGE\n",
       "3     267     14        AFTER EFFECTS\n",
       "4     268     14  SPIRITUAL/X EARTHLY"
      ]
     },
     "metadata": {},
     "output_type": "display_data"
    },
    {
     "name": "stdout",
     "output_type": "stream",
     "text": [
      "Columns: 3\n",
      "groupID, listID, Category\n",
      "\n",
      "#Rows: 21\n",
      "------------------ \n",
      "\n",
      "------------------\n",
      "Top 5 rows:\n"
     ]
    },
    {
     "data": {
      "text/html": [
       "<div>\n",
       "<style scoped>\n",
       "    .dataframe tbody tr th:only-of-type {\n",
       "        vertical-align: middle;\n",
       "    }\n",
       "\n",
       "    .dataframe tbody tr th {\n",
       "        vertical-align: top;\n",
       "    }\n",
       "\n",
       "    .dataframe thead th {\n",
       "        text-align: right;\n",
       "    }\n",
       "</style>\n",
       "<table border=\"1\" class=\"dataframe\">\n",
       "  <thead>\n",
       "    <tr style=\"text-align: right;\">\n",
       "      <th></th>\n",
       "      <th>groupID</th>\n",
       "      <th>listID</th>\n",
       "      <th>Category</th>\n",
       "    </tr>\n",
       "  </thead>\n",
       "  <tbody>\n",
       "    <tr>\n",
       "      <th>0</th>\n",
       "      <td>56</td>\n",
       "      <td>4</td>\n",
       "      <td>SHORT-LIVED</td>\n",
       "    </tr>\n",
       "    <tr>\n",
       "      <th>1</th>\n",
       "      <td>57</td>\n",
       "      <td>4</td>\n",
       "      <td>NEVER ENDING/NON STOP</td>\n",
       "    </tr>\n",
       "    <tr>\n",
       "      <th>2</th>\n",
       "      <td>58</td>\n",
       "      <td>4</td>\n",
       "      <td>END/STOP</td>\n",
       "    </tr>\n",
       "    <tr>\n",
       "      <th>3</th>\n",
       "      <td>59</td>\n",
       "      <td>4</td>\n",
       "      <td>IRREGULAR/ PERIODICALLY</td>\n",
       "    </tr>\n",
       "    <tr>\n",
       "      <th>4</th>\n",
       "      <td>60</td>\n",
       "      <td>4</td>\n",
       "      <td>CALM DOWN (+) (make better)</td>\n",
       "    </tr>\n",
       "  </tbody>\n",
       "</table>\n",
       "</div>"
      ],
      "text/plain": [
       "  groupID listID                     Category\n",
       "0      56      4                  SHORT-LIVED\n",
       "1      57      4        NEVER ENDING/NON STOP\n",
       "2      58      4                     END/STOP\n",
       "3      59      4      IRREGULAR/ PERIODICALLY\n",
       "4      60      4  CALM DOWN (+) (make better)"
      ]
     },
     "metadata": {},
     "output_type": "display_data"
    },
    {
     "name": "stdout",
     "output_type": "stream",
     "text": [
      "Columns: 3\n",
      "groupID, listID, Category\n",
      "\n",
      "#Rows: 242\n",
      "------------------ \n",
      "\n"
     ]
    }
   ],
   "source": [
    "vocab.update_group_table()"
   ]
  },
  {
   "cell_type": "code",
   "execution_count": 435,
   "metadata": {
    "collapsed": false
   },
   "outputs": [
    {
     "name": "stdout",
     "output_type": "stream",
     "text": [
      "------------------\n",
      "Top 5 rows:\n"
     ]
    },
    {
     "data": {
      "text/html": [
       "<div>\n",
       "<style scoped>\n",
       "    .dataframe tbody tr th:only-of-type {\n",
       "        vertical-align: middle;\n",
       "    }\n",
       "\n",
       "    .dataframe tbody tr th {\n",
       "        vertical-align: top;\n",
       "    }\n",
       "\n",
       "    .dataframe thead th {\n",
       "        text-align: right;\n",
       "    }\n",
       "</style>\n",
       "<table border=\"1\" class=\"dataframe\">\n",
       "  <thead>\n",
       "    <tr style=\"text-align: right;\">\n",
       "      <th></th>\n",
       "      <th>id</th>\n",
       "      <th>groupID</th>\n",
       "      <th>Opp</th>\n",
       "      <th>word</th>\n",
       "      <th>meaning</th>\n",
       "      <th>example</th>\n",
       "    </tr>\n",
       "  </thead>\n",
       "  <tbody>\n",
       "    <tr>\n",
       "      <th>0</th>\n",
       "      <td>1819</td>\n",
       "      <td>312</td>\n",
       "      <td>N</td>\n",
       "      <td>VICARIOUS</td>\n",
       "      <td>felt or experienced by watching or reading abo...</td>\n",
       "      <td>He got a &lt;strong&gt;vicarious&lt;/strong&gt; thrill out...</td>\n",
       "    </tr>\n",
       "  </tbody>\n",
       "</table>\n",
       "</div>"
      ],
      "text/plain": [
       "     id groupID Opp       word  \\\n",
       "0  1819     312   N  VICARIOUS   \n",
       "\n",
       "                                             meaning  \\\n",
       "0  felt or experienced by watching or reading abo...   \n",
       "\n",
       "                                             example  \n",
       "0  He got a <strong>vicarious</strong> thrill out...  "
      ]
     },
     "metadata": {},
     "output_type": "display_data"
    },
    {
     "name": "stdout",
     "output_type": "stream",
     "text": [
      "Columns: 6\n",
      "id, groupID, Opp, word, meaning, example\n",
      "\n",
      "#Rows: 1\n",
      "------------------ \n",
      "\n",
      "------------------\n",
      "Top 5 rows:\n"
     ]
    },
    {
     "data": {
      "text/html": [
       "<div>\n",
       "<style scoped>\n",
       "    .dataframe tbody tr th:only-of-type {\n",
       "        vertical-align: middle;\n",
       "    }\n",
       "\n",
       "    .dataframe tbody tr th {\n",
       "        vertical-align: top;\n",
       "    }\n",
       "\n",
       "    .dataframe thead th {\n",
       "        text-align: right;\n",
       "    }\n",
       "</style>\n",
       "<table border=\"1\" class=\"dataframe\">\n",
       "  <thead>\n",
       "    <tr style=\"text-align: right;\">\n",
       "      <th></th>\n",
       "      <th>id</th>\n",
       "      <th>groupID</th>\n",
       "      <th>Opp</th>\n",
       "      <th>word</th>\n",
       "      <th>meaning</th>\n",
       "      <th>example</th>\n",
       "    </tr>\n",
       "  </thead>\n",
       "  <tbody>\n",
       "    <tr>\n",
       "      <th>0</th>\n",
       "      <td>391</td>\n",
       "      <td>56</td>\n",
       "      <td>N</td>\n",
       "      <td>EPHEMERAL</td>\n",
       "      <td>lasting for a short time</td>\n",
       "      <td>Capturing those ephemeral images has been a ch...</td>\n",
       "    </tr>\n",
       "    <tr>\n",
       "      <th>1</th>\n",
       "      <td>392</td>\n",
       "      <td>56</td>\n",
       "      <td>N</td>\n",
       "      <td>EVANESCENT</td>\n",
       "      <td>lasting for a short time</td>\n",
       "      <td>When compared with the timelessness of the uni...</td>\n",
       "    </tr>\n",
       "    <tr>\n",
       "      <th>2</th>\n",
       "      <td>393</td>\n",
       "      <td>56</td>\n",
       "      <td>N</td>\n",
       "      <td>FLEETING</td>\n",
       "      <td>lasting for a short time</td>\n",
       "      <td>I had a fleeting desire to jump into the cool ...</td>\n",
       "    </tr>\n",
       "    <tr>\n",
       "      <th>3</th>\n",
       "      <td>394</td>\n",
       "      <td>56</td>\n",
       "      <td>N</td>\n",
       "      <td>TRANSIENT</td>\n",
       "      <td>temporary</td>\n",
       "      <td>These are short term transient benefits at the...</td>\n",
       "    </tr>\n",
       "    <tr>\n",
       "      <th>4</th>\n",
       "      <td>395</td>\n",
       "      <td>56</td>\n",
       "      <td>N</td>\n",
       "      <td>TRANSITORY</td>\n",
       "      <td>temporary</td>\n",
       "      <td>A transitory panic struck me when I realized t...</td>\n",
       "    </tr>\n",
       "  </tbody>\n",
       "</table>\n",
       "</div>"
      ],
      "text/plain": [
       "    id groupID Opp        word                   meaning  \\\n",
       "0  391      56   N   EPHEMERAL  lasting for a short time   \n",
       "1  392      56   N  EVANESCENT  lasting for a short time   \n",
       "2  393      56   N    FLEETING  lasting for a short time   \n",
       "3  394      56   N   TRANSIENT                 temporary   \n",
       "4  395      56   N  TRANSITORY                 temporary   \n",
       "\n",
       "                                             example  \n",
       "0  Capturing those ephemeral images has been a ch...  \n",
       "1  When compared with the timelessness of the uni...  \n",
       "2  I had a fleeting desire to jump into the cool ...  \n",
       "3  These are short term transient benefits at the...  \n",
       "4  A transitory panic struck me when I realized t...  "
      ]
     },
     "metadata": {},
     "output_type": "display_data"
    },
    {
     "name": "stdout",
     "output_type": "stream",
     "text": [
      "Columns: 6\n",
      "id, groupID, Opp, word, meaning, example\n",
      "\n",
      "#Rows: 1449\n",
      "------------------ \n",
      "\n"
     ]
    }
   ],
   "source": [
    "vocab.update_word_table()"
   ]
  },
  {
   "cell_type": "code",
   "execution_count": null,
   "metadata": {
    "collapsed": true
   },
   "outputs": [],
   "source": [
    "vocab.update_word_table()"
   ]
  },
  {
   "cell_type": "code",
   "execution_count": null,
   "metadata": {
    "collapsed": true
   },
   "outputs": [],
   "source": [
    "vocab.update_word_table()"
   ]
  },
  {
   "cell_type": "code",
   "execution_count": null,
   "metadata": {
    "collapsed": true
   },
   "outputs": [],
   "source": [
    "vocab.update_word_table()"
   ]
  },
  {
   "cell_type": "code",
   "execution_count": null,
   "metadata": {
    "collapsed": true
   },
   "outputs": [],
   "source": [
    "vocab.update_word_table()"
   ]
  },
  {
   "cell_type": "code",
   "execution_count": null,
   "metadata": {
    "collapsed": true
   },
   "outputs": [],
   "source": [
    "vocab.update_word_table()"
   ]
  },
  {
   "cell_type": "code",
   "execution_count": null,
   "metadata": {
    "collapsed": true
   },
   "outputs": [],
   "source": [
    "vocab.update_word_table()"
   ]
  },
  {
   "cell_type": "code",
   "execution_count": null,
   "metadata": {
    "collapsed": true
   },
   "outputs": [],
   "source": [
    "vocab.update_word_table()"
   ]
  },
  {
   "cell_type": "code",
   "execution_count": null,
   "metadata": {
    "collapsed": true
   },
   "outputs": [],
   "source": [
    "vocab.update_word_table()"
   ]
  },
  {
   "cell_type": "code",
   "execution_count": null,
   "metadata": {
    "collapsed": true
   },
   "outputs": [],
   "source": [
    "vocab.update_word_table()"
   ]
  },
  {
   "cell_type": "code",
   "execution_count": null,
   "metadata": {
    "collapsed": true
   },
   "outputs": [],
   "source": [
    "vocab.update_word_table()"
   ]
  },
  {
   "cell_type": "code",
   "execution_count": null,
   "metadata": {
    "collapsed": true
   },
   "outputs": [],
   "source": [
    "vocab.update_word_table()"
   ]
  },
  {
   "cell_type": "code",
   "execution_count": null,
   "metadata": {
    "collapsed": true
   },
   "outputs": [],
   "source": []
  },
  {
   "cell_type": "code",
   "execution_count": null,
   "metadata": {
    "collapsed": true
   },
   "outputs": [],
   "source": []
  },
  {
   "cell_type": "code",
   "execution_count": null,
   "metadata": {
    "collapsed": true
   },
   "outputs": [],
   "source": []
  },
  {
   "cell_type": "code",
   "execution_count": null,
   "metadata": {
    "collapsed": true
   },
   "outputs": [],
   "source": []
  },
  {
   "cell_type": "code",
   "execution_count": null,
   "metadata": {
    "collapsed": true
   },
   "outputs": [],
   "source": []
  },
  {
   "cell_type": "code",
   "execution_count": null,
   "metadata": {
    "collapsed": true
   },
   "outputs": [],
   "source": []
  },
  {
   "cell_type": "code",
   "execution_count": null,
   "metadata": {
    "collapsed": true
   },
   "outputs": [],
   "source": []
  },
  {
   "cell_type": "code",
   "execution_count": 436,
   "metadata": {
    "collapsed": false
   },
   "outputs": [
    {
     "name": "stdout",
     "output_type": "stream",
     "text": [
      "All Categories are present\n",
      "Data Processed\n",
      "All Categories are present\n",
      "------------------\n",
      "Top 5 rows:\n"
     ]
    },
    {
     "data": {
      "text/html": [
       "<div>\n",
       "<style scoped>\n",
       "    .dataframe tbody tr th:only-of-type {\n",
       "        vertical-align: middle;\n",
       "    }\n",
       "\n",
       "    .dataframe tbody tr th {\n",
       "        vertical-align: top;\n",
       "    }\n",
       "\n",
       "    .dataframe thead th {\n",
       "        text-align: right;\n",
       "    }\n",
       "</style>\n",
       "<table border=\"1\" class=\"dataframe\">\n",
       "  <thead>\n",
       "    <tr style=\"text-align: right;\">\n",
       "      <th></th>\n",
       "      <th>Category</th>\n",
       "      <th>Opp</th>\n",
       "      <th>word</th>\n",
       "      <th>meaning</th>\n",
       "      <th>example</th>\n",
       "    </tr>\n",
       "  </thead>\n",
       "  <tbody>\n",
       "    <tr>\n",
       "      <th>0</th>\n",
       "      <td>SHORT-LIVED</td>\n",
       "      <td>N</td>\n",
       "      <td>EPHEMERAL</td>\n",
       "      <td>lasting for a short time</td>\n",
       "      <td>Capturing those ephemeral images has been a ch...</td>\n",
       "    </tr>\n",
       "    <tr>\n",
       "      <th>1</th>\n",
       "      <td>SHORT-LIVED</td>\n",
       "      <td>N</td>\n",
       "      <td>EVANESCENT</td>\n",
       "      <td>lasting for a short time</td>\n",
       "      <td>When compared with the timelessness of the uni...</td>\n",
       "    </tr>\n",
       "    <tr>\n",
       "      <th>2</th>\n",
       "      <td>SHORT-LIVED</td>\n",
       "      <td>N</td>\n",
       "      <td>FLEETING</td>\n",
       "      <td>lasting for a short time</td>\n",
       "      <td>I had a fleeting desire to jump into the cool ...</td>\n",
       "    </tr>\n",
       "    <tr>\n",
       "      <th>3</th>\n",
       "      <td>SHORT-LIVED</td>\n",
       "      <td>N</td>\n",
       "      <td>TRANSIENT</td>\n",
       "      <td>temporary</td>\n",
       "      <td>These are short term transient benefits at the...</td>\n",
       "    </tr>\n",
       "    <tr>\n",
       "      <th>4</th>\n",
       "      <td>SHORT-LIVED</td>\n",
       "      <td>N</td>\n",
       "      <td>TRANSITORY</td>\n",
       "      <td>temporary</td>\n",
       "      <td>A transitory panic struck me when I realized t...</td>\n",
       "    </tr>\n",
       "  </tbody>\n",
       "</table>\n",
       "</div>"
      ],
      "text/plain": [
       "      Category Opp        word                   meaning  \\\n",
       "0  SHORT-LIVED   N   EPHEMERAL  lasting for a short time   \n",
       "1  SHORT-LIVED   N  EVANESCENT  lasting for a short time   \n",
       "2  SHORT-LIVED   N    FLEETING  lasting for a short time   \n",
       "3  SHORT-LIVED   N   TRANSIENT                 temporary   \n",
       "4  SHORT-LIVED   N  TRANSITORY                 temporary   \n",
       "\n",
       "                                             example  \n",
       "0  Capturing those ephemeral images has been a ch...  \n",
       "1  When compared with the timelessness of the uni...  \n",
       "2  I had a fleeting desire to jump into the cool ...  \n",
       "3  These are short term transient benefits at the...  \n",
       "4  A transitory panic struck me when I realized t...  "
      ]
     },
     "metadata": {},
     "output_type": "display_data"
    },
    {
     "name": "stdout",
     "output_type": "stream",
     "text": [
      "Columns: 5\n",
      "Category, Opp, word, meaning, example\n",
      "\n",
      "#Rows: 1449\n",
      "------------------ \n",
      "\n"
     ]
    }
   ],
   "source": [
    "vocab.process_table()\n",
    "vocab.copy_process_table()"
   ]
  },
  {
   "cell_type": "code",
   "execution_count": null,
   "metadata": {
    "collapsed": true
   },
   "outputs": [],
   "source": []
  },
  {
   "cell_type": "code",
   "execution_count": 437,
   "metadata": {
    "collapsed": false
   },
   "outputs": [
    {
     "name": "stdout",
     "output_type": "stream",
     "text": [
      "Export successful!\n"
     ]
    }
   ],
   "source": [
    "# saving\n",
    "os.chdir(interim_dir)\n",
    "\n",
    "vocab.export_pickle('JUMB_VOCAB_{}.pickle'.format(4))"
   ]
  },
  {
   "cell_type": "code",
   "execution_count": null,
   "metadata": {
    "collapsed": true
   },
   "outputs": [],
   "source": []
  },
  {
   "cell_type": "code",
   "execution_count": 201,
   "metadata": {
    "collapsed": true
   },
   "outputs": [],
   "source": [
    "df_collated_group = vocab.df_collated_group\n",
    "df_collated_word = vocab.df_collated_word"
   ]
  },
  {
   "cell_type": "code",
   "execution_count": null,
   "metadata": {
    "collapsed": true
   },
   "outputs": [],
   "source": []
  }
 ],
 "metadata": {
  "anaconda-cloud": {},
  "kernelspec": {
   "display_name": "Python [default]",
   "language": "python",
   "name": "python3"
  },
  "language_info": {
   "codemirror_mode": {
    "name": "ipython",
    "version": 3
   },
   "file_extension": ".py",
   "mimetype": "text/x-python",
   "name": "python",
   "nbconvert_exporter": "python",
   "pygments_lexer": "ipython3",
   "version": "3.5.2"
  }
 },
 "nbformat": 4,
 "nbformat_minor": 1
}
